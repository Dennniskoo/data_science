{
 "cells": [
  {
   "attachments": {},
   "cell_type": "markdown",
   "metadata": {},
   "source": [
    "#### Для начала создадим 2 массива со случайными номерами дверей: номера дверей с автомобилями (для каждой попытки) и номера дверей, которые первоначально выбирает гость. Попыток будет 10 000."
   ]
  },
  {
   "cell_type": "code",
   "execution_count": 17,
   "metadata": {},
   "outputs": [],
   "source": [
    "ATTEMPTS = 10000\n",
    "\n",
    "import numpy as np\n",
    "# создадим список номеров дверей с автомобилем\n",
    "door_with_car_list = np.random.randint(3, size=ATTEMPTS)\n",
    "# и список первых попыток угадать дверь\n",
    "guess_list = np.random.randint(3, size=ATTEMPTS)"
   ]
  },
  {
   "attachments": {},
   "cell_type": "markdown",
   "metadata": {},
   "source": [
    "#### Попробуем предсказать без замены двери и расчитаем вероятность:"
   ]
  },
  {
   "cell_type": "code",
   "execution_count": 18,
   "metadata": {},
   "outputs": [
    {
     "data": {
      "text/plain": [
       "0.3406"
      ]
     },
     "execution_count": 18,
     "metadata": {},
     "output_type": "execute_result"
    }
   ],
   "source": [
    "(door_with_car_list == guess_list).sum()/ATTEMPTS"
   ]
  },
  {
   "attachments": {},
   "cell_type": "markdown",
   "metadata": {},
   "source": [
    "#### Разумеется, вероятность получилась 1/3. Но что если попробовать все-таки менять дверь:"
   ]
  },
  {
   "cell_type": "code",
   "execution_count": 19,
   "metadata": {},
   "outputs": [
    {
     "data": {
      "text/plain": [
       "0.6594"
      ]
     },
     "execution_count": 19,
     "metadata": {},
     "output_type": "execute_result"
    }
   ],
   "source": [
    "def next_door(door_num):\n",
    "    if door_num < 2: return door_num + 1\n",
    "    else: return 0\n",
    "\n",
    "\n",
    "def monty_open_door(attempt_number:int):\n",
    "    # Ведущий открывает одну дверь с козой\n",
    "    # Выбираем дверь, отличную от указанной гостем\n",
    "    monty_opened = next_door(guess_list[attempt_number])\n",
    "    # Если там машина, выбираем другую, т.к. ведущий знает за какой дверью автомобиль\n",
    "    if monty_opened == door_with_car_list[attempt_number]: monty_opened = next_door(monty_opened)\n",
    "    return monty_opened\n",
    "    \n",
    "    \n",
    "# Теперь попробуем поменять дверь\n",
    "guessed = 0  \n",
    "for attempt_number in range(ATTEMPTS):\n",
    "    # Ведущий открывает одну дверь с козой\n",
    "    monty_opened_door = monty_open_door(attempt_number)\n",
    "    # Теперь гость меняет выбранную дверь\n",
    "    changed_guess = next_door(guess_list[attempt_number])\n",
    "    # Обходим открытую ведущим дверь\n",
    "    if changed_guess == monty_opened_door: \n",
    "        changed_guess = next_door(changed_guess)\n",
    "    \n",
    "    if changed_guess == door_with_car_list[attempt_number]: \n",
    "        guessed += 1\n",
    "    \n",
    "guessed/ATTEMPTS"
   ]
  },
  {
   "attachments": {},
   "cell_type": "markdown",
   "metadata": {},
   "source": [
    "#### Получается вероятность 2/3 (в 2 раза больше, чем в первом случае!)"
   ]
  },
  {
   "attachments": {},
   "cell_type": "markdown",
   "metadata": {},
   "source": [
    "#### Это происходит потому, что автомобиль находится:\n",
    "* Или за ВЫБРАННОЙ дверью с вероятностью 1/3 \n",
    "* Или за ДРУГИМИ ДВУМЯ с вероятностью 2/3, \n",
    "#### а из оставшихся двух дверей нам достоверно становится известно за какой автомобиля нет.\n",
    "#### Поэтому, дверь надо всегда менять. Шансы выиграть удваиваются."
   ]
  }
 ],
 "metadata": {
  "kernelspec": {
   "display_name": "Python 3",
   "language": "python",
   "name": "python3"
  },
  "language_info": {
   "codemirror_mode": {
    "name": "ipython",
    "version": 3
   },
   "file_extension": ".py",
   "mimetype": "text/x-python",
   "name": "python",
   "nbconvert_exporter": "python",
   "pygments_lexer": "ipython3",
   "version": "3.10.10"
  },
  "orig_nbformat": 4,
  "vscode": {
   "interpreter": {
    "hash": "d3e10ef16274dd72e574b8fa73b58450b957d8421a2901baded3cca26fcf5dda"
   }
  }
 },
 "nbformat": 4,
 "nbformat_minor": 2
}
