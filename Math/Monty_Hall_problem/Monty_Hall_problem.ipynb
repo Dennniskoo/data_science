{
 "cells": [
  {
   "attachments": {},
   "cell_type": "markdown",
   "metadata": {},
   "source": [
    "#### Для начала создадим 2 массива со случайными номерами дверей: номера дверей с автомобилями (для каждой попытки) и номера дверей, которые первоначально выбирает гость. Попыток будет 10 000."
   ]
  },
  {
   "cell_type": "code",
   "execution_count": 41,
   "metadata": {},
   "outputs": [],
   "source": [
    "ATTEMPTS = 10000\n",
    "import numpy as np\n",
    "# список номеров дверей с автомобилем\n",
    "door_with_car_list = np.random.randint(3, size=ATTEMPTS)\n",
    "# и список первых попыток угадать дверь\n",
    "guess_list = np.random.randint(3, size=ATTEMPTS)"
   ]
  },
  {
   "attachments": {},
   "cell_type": "markdown",
   "metadata": {},
   "source": [
    "#### Попробуем предсказать без замены двери и расчитаем вероятность:"
   ]
  },
  {
   "cell_type": "code",
   "execution_count": 42,
   "metadata": {},
   "outputs": [
    {
     "data": {
      "text/plain": [
       "0.3283"
      ]
     },
     "execution_count": 42,
     "metadata": {},
     "output_type": "execute_result"
    }
   ],
   "source": [
    "(door_with_car_list == guess_list).sum()/ATTEMPTS"
   ]
  },
  {
   "attachments": {},
   "cell_type": "markdown",
   "metadata": {},
   "source": [
    "#### Разумеется вероятность получилась 1/3. Но что если попробовать все-таки поменять дверь:"
   ]
  },
  {
   "cell_type": "code",
   "execution_count": 43,
   "metadata": {},
   "outputs": [
    {
     "data": {
      "text/plain": [
       "0.6717"
      ]
     },
     "execution_count": 43,
     "metadata": {},
     "output_type": "execute_result"
    }
   ],
   "source": [
    "def next_door(door_num):\n",
    "    if door_num < 2: return door_num + 1\n",
    "    else: return 0\n",
    "\n",
    "\n",
    "def monty_open_door(attempt_number:int):\n",
    "    # Ведущий открывает одну дверь с козой\n",
    "    # Выбираем дверь, отличную от указанной гостем\n",
    "    first_opened = next_door(guess_list[attempt_number])\n",
    "    # Если там машина, выбираем другую, т.к. ведущий знает за какой дверью автомобиль\n",
    "    if first_opened == door_with_car_list[attempt_number]: first_opened = next_door(first_opened)\n",
    "    return first_opened\n",
    "    \n",
    "    \n",
    "# Теперь попробуем поменять дверь\n",
    "guessed = 0  \n",
    "for attempt_number in range(ATTEMPTS):\n",
    "    # Ведущий открывает одну дверь с козой\n",
    "    first_opened_door = monty_open_door(attempt_number)\n",
    "    # Теперь гость меняет выбранную дверь\n",
    "    changed_guess = next_door(guess_list[attempt_number])\n",
    "    # Обходим открытую ведущим дверь\n",
    "    if changed_guess == first_opened_door: \n",
    "        changed_guess = next_door(changed_guess)\n",
    "    \n",
    "    if changed_guess == door_with_car_list[attempt_number]: \n",
    "        guessed += 1\n",
    "    \n",
    "guessed/ATTEMPTS"
   ]
  },
  {
   "attachments": {},
   "cell_type": "markdown",
   "metadata": {},
   "source": [
    "#### Получается вероятность 2/3 (в 2 раза больше, чем в первом случае!)"
   ]
  }
 ],
 "metadata": {
  "kernelspec": {
   "display_name": "Python 3",
   "language": "python",
   "name": "python3"
  },
  "language_info": {
   "codemirror_mode": {
    "name": "ipython",
    "version": 3
   },
   "file_extension": ".py",
   "mimetype": "text/x-python",
   "name": "python",
   "nbconvert_exporter": "python",
   "pygments_lexer": "ipython3",
   "version": "3.10.10"
  },
  "orig_nbformat": 4,
  "vscode": {
   "interpreter": {
    "hash": "84fee7d3a0e38d6d54c9f22946ce799dea11573b4478e11ef642f6ebc6ef5042"
   }
  }
 },
 "nbformat": 4,
 "nbformat_minor": 2
}
