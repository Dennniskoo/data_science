{
 "cells": [
  {
   "cell_type": "code",
   "execution_count": 4,
   "metadata": {},
   "outputs": [
    {
     "data": {
      "text/html": [
       "<div>\n",
       "<style scoped>\n",
       "    .dataframe tbody tr th:only-of-type {\n",
       "        vertical-align: middle;\n",
       "    }\n",
       "\n",
       "    .dataframe tbody tr th {\n",
       "        vertical-align: top;\n",
       "    }\n",
       "\n",
       "    .dataframe thead th {\n",
       "        text-align: right;\n",
       "    }\n",
       "</style>\n",
       "<table border=\"1\" class=\"dataframe\">\n",
       "  <thead>\n",
       "    <tr style=\"text-align: right;\">\n",
       "      <th></th>\n",
       "      <th>Наименование работ</th>\n",
       "      <th>Цена</th>\n",
       "      <th>Дата</th>\n",
       "    </tr>\n",
       "  </thead>\n",
       "  <tbody>\n",
       "    <tr>\n",
       "      <th>0</th>\n",
       "      <td>Заправка кондиц.(газ,масло)и экспресс диагност...</td>\n",
       "      <td>1700</td>\n",
       "      <td>2021-07-30</td>\n",
       "    </tr>\n",
       "    <tr>\n",
       "      <th>1</th>\n",
       "      <td>Ведомая диагностика поиска неисправностей ,чте...</td>\n",
       "      <td>1000</td>\n",
       "      <td>2021-07-31</td>\n",
       "    </tr>\n",
       "    <tr>\n",
       "      <th>2</th>\n",
       "      <td>Ведомая диагностика поиска неисправностей ,чте...</td>\n",
       "      <td>1000</td>\n",
       "      <td>2021-07-31</td>\n",
       "    </tr>\n",
       "    <tr>\n",
       "      <th>3</th>\n",
       "      <td>Ремонт генератора</td>\n",
       "      <td>1000</td>\n",
       "      <td>2021-07-31</td>\n",
       "    </tr>\n",
       "    <tr>\n",
       "      <th>4</th>\n",
       "      <td>Электротехнические работы прошивка системы</td>\n",
       "      <td>8000</td>\n",
       "      <td>2021-07-31</td>\n",
       "    </tr>\n",
       "    <tr>\n",
       "      <th>...</th>\n",
       "      <td>...</td>\n",
       "      <td>...</td>\n",
       "      <td>...</td>\n",
       "    </tr>\n",
       "    <tr>\n",
       "      <th>2365</th>\n",
       "      <td>Ремонт(восстановление)электропроводки фар с за...</td>\n",
       "      <td>1500</td>\n",
       "      <td>2023-02-15</td>\n",
       "    </tr>\n",
       "    <tr>\n",
       "      <th>2366</th>\n",
       "      <td>Диагностика электрооборудования</td>\n",
       "      <td>500</td>\n",
       "      <td>2023-02-16</td>\n",
       "    </tr>\n",
       "    <tr>\n",
       "      <th>2367</th>\n",
       "      <td>Проверка ламп</td>\n",
       "      <td>300</td>\n",
       "      <td>2023-02-17</td>\n",
       "    </tr>\n",
       "    <tr>\n",
       "      <th>2368</th>\n",
       "      <td>Электротехнические работы</td>\n",
       "      <td>2000</td>\n",
       "      <td>2023-02-18</td>\n",
       "    </tr>\n",
       "    <tr>\n",
       "      <th>2369</th>\n",
       "      <td>Адаптация</td>\n",
       "      <td>500</td>\n",
       "      <td>2023-02-19</td>\n",
       "    </tr>\n",
       "  </tbody>\n",
       "</table>\n",
       "<p>2370 rows × 3 columns</p>\n",
       "</div>"
      ],
      "text/plain": [
       "                                     Наименование работ  Цена        Дата\n",
       "0     Заправка кондиц.(газ,масло)и экспресс диагност...  1700  2021-07-30\n",
       "1     Ведомая диагностика поиска неисправностей ,чте...  1000  2021-07-31\n",
       "2     Ведомая диагностика поиска неисправностей ,чте...  1000  2021-07-31\n",
       "3                                     Ремонт генератора  1000  2021-07-31\n",
       "4            Электротехнические работы прошивка системы  8000  2021-07-31\n",
       "...                                                 ...   ...         ...\n",
       "2365  Ремонт(восстановление)электропроводки фар с за...  1500  2023-02-15\n",
       "2366                    Диагностика электрооборудования   500  2023-02-16\n",
       "2367                                      Проверка ламп   300  2023-02-17\n",
       "2368                          Электротехнические работы  2000  2023-02-18\n",
       "2369                                          Адаптация   500  2023-02-19\n",
       "\n",
       "[2370 rows x 3 columns]"
      ]
     },
     "execution_count": 4,
     "metadata": {},
     "output_type": "execute_result"
    }
   ],
   "source": [
    "import pandas as pd\n",
    "data = pd.read_csv('cleared\\\\rabota2022.csv')\n",
    "data"
   ]
  },
  {
   "cell_type": "code",
   "execution_count": 26,
   "metadata": {},
   "outputs": [
    {
     "data": {
      "text/plain": [
       "223100"
      ]
     },
     "execution_count": 26,
     "metadata": {},
     "output_type": "execute_result"
    }
   ],
   "source": [
    "data['кондей'] = data['Наименование работ'].apply(lambda x: ('кондиц' in x.lower()) or ('заправка' in x.lower()) or ('радиат' in x.lower()))\n",
    "data[data['кондей']==True]['Цена'].sum()"
   ]
  },
  {
   "cell_type": "code",
   "execution_count": 28,
   "metadata": {},
   "outputs": [
    {
     "data": {
      "text/plain": [
       "Электротехнические работы                                                                     248\n",
       "Диагностика электрооборудования                                                               194\n",
       "Ведомая диагностика поиска неисправностей ,чтение кодов неисправностей вэлектронных блоках    170\n",
       "Диагностика ЭСУД                                                                              149\n",
       "Компьютерная диагностика                                                                      112\n",
       "Компютерная диагностика поиск неисправности                                                    89\n",
       "Заправка кондиц.(газ,масло)и экспресс диагностика легковые авто                                42\n",
       "Ремонт генератора                                                                              37\n",
       "Ремонт электропроводки                                                                         36\n",
       "Замена катушки зажигания 1 шт.                                                                 20\n",
       "Замена свечи зажигания ДВС                                                                     20\n",
       "Заправка кондиционера                                                                          16\n",
       "Диагностика                                                                                    13\n",
       "Диффектовка генератора                                                                         12\n",
       "Свечи зажигания- замена                                                                        12\n",
       "Бензонасос-снятие/установка                                                                    12\n",
       "Замена лампы                                                                                   12\n",
       "Компьютерная диагностика электронных систем после заправки фреоном                             12\n",
       "Ремонт стартера                                                                                11\n",
       "Промывка очистка форсунок                                                                      11\n",
       "Демонтаж/монтаж дроссельной заслонки                                                           11\n",
       "Замена лампы головного освещения                                                               11\n",
       "Замена лампочек                                                                                11\n",
       "Замена свечей зажигания 4 цилиндр. ДВС                                                         11\n",
       "Компъютерная диагностика                                                                       10\n",
       "Замена предохранителя                                                                           9\n",
       "Промывка форсунок                                                                               9\n",
       "Датчик кислорода(лямдазонд)-снятие/установка                                                    8\n",
       "Простая замена эл ламп освещения стоп-сигналы,поворотники,габариты,подсветканомера,салон        7\n",
       "Замена топливного насоса погружной в баке                                                       7\n",
       "Компьютерная диагностика электронных систем                                                     7\n",
       "Проверка давления топлива                                                                       7\n",
       "Диагностика эектрооборудования                                                                  7\n",
       "Замена ламп                                                                                     6\n",
       "Замер компрессии ДВС                                                                            6\n",
       "Дефектовка генератора                                                                           6\n",
       "Дефектовка стартера                                                                             6\n",
       "Заправка кондиц.(газ,масло)и экспресс диагностика джип                                          5\n",
       "Замена В/В проводов                                                                             5\n",
       "Комплексная диагностика                                                                         5\n",
       "Чистка дроссельной заслонки                                                                     5\n",
       "Промывка дроссельной заслонки ( без учета материала)                                            5\n",
       "Компютерная диагностика                                                                         4\n",
       "Стартер-снятие/установка                                                                        4\n",
       "Замена лампы ПТФ                                                                                4\n",
       "Диагностика ДВС                                                                                 4\n",
       "Ремонт проводки                                                                                 4\n",
       "Бензонасос-разборка/сборка                                                                      4\n",
       "Прошивка евро 2                                                                                 4\n",
       "Замена подрулевого переключателя                                                                4\n",
       "Замена лампы ДХО                                                                                4\n",
       "Замена катушки зажигания                                                                        4\n",
       "Установка камеры заднего вида                                                                   4\n",
       "Установка сигнализации                                                                          4\n",
       "Промывка инжекторов                                                                             4\n",
       "Осмотр системы подачи топлива(бензонасоса,магистрали итд.)                                      3\n",
       "Ремонт подрулевого переключателя                                                                3\n",
       "Проверка зарядки и электроцепей генератора                                                      3\n",
       "Компьютерная диагностика электрооборудования                                                    3\n",
       "Свечизажигания-снятие/установка                                                                 3\n",
       "Name: Наименование работ, dtype: int64"
      ]
     },
     "execution_count": 28,
     "metadata": {},
     "output_type": "execute_result"
    }
   ],
   "source": [
    "data['Наименование работ'].value_counts().head(60)"
   ]
  },
  {
   "cell_type": "code",
   "execution_count": 29,
   "metadata": {},
   "outputs": [],
   "source": [
    "data['Комп. диагностика'] = data['Наименование работ'].apply(lambda x: \n",
    "    ('компьютерная' in x.lower()) or \n",
    "    ('ведомая' in x.lower()) or \n",
    "    ('компютерная' in x.lower()) or\n",
    "    (x=='Диагностика ЭСУД') or \n",
    "    (x=='Диагностика') or\n",
    "    (x=='Компъютерная диагностика') or\n",
    "    (x=='Компютерная диагностика')\n",
    "    )"
   ]
  },
  {
   "cell_type": "code",
   "execution_count": 37,
   "metadata": {},
   "outputs": [
    {
     "data": {
      "text/plain": [
       "590850"
      ]
     },
     "execution_count": 37,
     "metadata": {},
     "output_type": "execute_result"
    }
   ],
   "source": [
    "data[(data['Комп. диагностика']==True)]['Цена'].sum()"
   ]
  },
  {
   "cell_type": "code",
   "execution_count": 41,
   "metadata": {},
   "outputs": [
    {
     "data": {
      "text/plain": [
       "165000"
      ]
     },
     "execution_count": 41,
     "metadata": {},
     "output_type": "execute_result"
    }
   ],
   "source": [
    "data[data['Наименование работ']=='Диагностика электрооборудования']['Цена'].sum()"
   ]
  },
  {
   "cell_type": "code",
   "execution_count": 43,
   "metadata": {},
   "outputs": [],
   "source": [
    "data['period'] = pd.to_datetime(data['Дата']).dt.to_period('M')"
   ]
  },
  {
   "cell_type": "code",
   "execution_count": 48,
   "metadata": {},
   "outputs": [
    {
     "data": {
      "text/plain": [
       "<AxesSubplot: xlabel='period'>"
      ]
     },
     "execution_count": 48,
     "metadata": {},
     "output_type": "execute_result"
    },
    {
     "data": {
      "image/png": "[encoded data removed]",
      "text/plain": [
       "<Figure size 640x480 with 1 Axes>"
      ]
     },
     "metadata": {},
     "output_type": "display_data"
    }
   ],
   "source": [
    "data.groupby('period')['Цена'].sum().plot.bar()"
   ]
  }
 ],
 "metadata": {
  "kernelspec": {
   "display_name": "Python 3",
   "language": "python",
   "name": "python3"
  },
  "language_info": {
   "codemirror_mode": {
    "name": "ipython",
    "version": 3
   },
   "file_extension": ".py",
   "mimetype": "text/x-python",
   "name": "python",
   "nbconvert_exporter": "python",
   "pygments_lexer": "ipython3",
   "version": "3.10.10"
  },
  "orig_nbformat": 4,
  "vscode": {
   "interpreter": {
    "hash": "84fee7d3a0e38d6d54c9f22946ce799dea11573b4478e11ef642f6ebc6ef5042"
   }
  }
 },
 "nbformat": 4,
 "nbformat_minor": 2
}
