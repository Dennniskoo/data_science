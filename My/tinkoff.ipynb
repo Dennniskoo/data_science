{
 "cells": [
  {
   "cell_type": "code",
   "execution_count": 1,
   "metadata": {},
   "outputs": [],
   "source": [
    "import pandas as pd\n",
    "data = pd.read_csv('data\\\\tinkoff2022.csv', encoding = 'cp1251', sep=';')"
   ]
  },
  {
   "cell_type": "code",
   "execution_count": 2,
   "metadata": {},
   "outputs": [
    {
     "data": {
      "text/plain": [
       "Перевод между счетами        91\n",
       "Перевод с карты              79\n",
       "Магнит                       70\n",
       "Whoosh                       62\n",
       "Денис К.                     61\n",
       "                             ..\n",
       "Kofeynya Shelby               1\n",
       "Stomatologiya Vnimanie        1\n",
       "IP Nabiev Am                  1\n",
       "Matreshka                     1\n",
       "Пополнение через Сбербанк     1\n",
       "Name: Описание, Length: 156, dtype: int64"
      ]
     },
     "execution_count": 2,
     "metadata": {},
     "output_type": "execute_result"
    }
   ],
   "source": [
    "data['Описание'].value_counts()"
   ]
  },
  {
   "cell_type": "code",
   "execution_count": 3,
   "metadata": {},
   "outputs": [
    {
     "data": {
      "text/plain": [
       "Магнит                                            70\n",
       "Whoosh                                            62\n",
       "Пополнение VB24 D. 8, KORP. 1, UL TYUMEN G RUS    39\n",
       "Планета Здоровья                                  31\n",
       "Монетка                                           29\n",
       "Самокат                                           27\n",
       "Компенсация покупки                               16\n",
       "Плата за предоставление услуги Защита Карты       12\n",
       "Плата за оповещения об операциях                  12\n",
       "Проценты по кредиту                               10\n",
       "Магнит Косметик                                    9\n",
       "Art-Yakhobbimarket                                 8\n",
       "Tyumen, Protozanova ,8                             7\n",
       "Sovetskij                                          7\n",
       "Перекрёсток                                        7\n",
       "Magazin dlya konditero                             6\n",
       "Бристоль                                           6\n",
       "Почта России                                       6\n",
       "Регулярный платеж                                  6\n",
       "Filatovskaya klinika                               6\n",
       "Tutu.ru                                            6\n",
       "Пятерочка                                          5\n",
       "Kapuchinych                                        5\n",
       "Додо Пицца                                         5\n",
       "Погашение задолженности                            5\n",
       "OOO Bionta 42                                      5\n",
       "Magazin Vega                                       4\n",
       "Лента                                              4\n",
       "Ozon.ru                                            4\n",
       "Флагман                                            4\n",
       "Name: Описание, dtype: int64"
      ]
     },
     "execution_count": 3,
     "metadata": {},
     "output_type": "execute_result"
    }
   ],
   "source": [
    "data = data[data['Описание']!='Перевод между счетами']\n",
    "data = data[data['Описание']!='Перевод с карты']\n",
    "data = data[data['Описание']!='Денис К.']\n",
    "data.drop(columns='Сумма платежа', inplace=True)\n",
    "data['Описание'].value_counts().head(30)"
   ]
  },
  {
   "cell_type": "code",
   "execution_count": 4,
   "metadata": {},
   "outputs": [],
   "source": [
    "data['Сумма операции с округлением'] = data['Сумма операции с округлением'].apply(lambda x: float(x.replace(',','.')))\n",
    "data['Сумма операции'] = data['Сумма операции'].apply(lambda x: float(x.replace(',','.')))"
   ]
  },
  {
   "cell_type": "code",
   "execution_count": 9,
   "metadata": {},
   "outputs": [
    {
     "data": {
      "text/plain": [
       "-687305.4600000001"
      ]
     },
     "execution_count": 9,
     "metadata": {},
     "output_type": "execute_result"
    }
   ],
   "source": [
    "data[data['Сумма операции'] < 0]['Сумма операции'].sum() - data['Сумма операции'].sum()"
   ]
  },
  {
   "cell_type": "code",
   "execution_count": 6,
   "metadata": {},
   "outputs": [
    {
     "data": {
      "text/plain": [
       "-68064.85"
      ]
     },
     "execution_count": 6,
     "metadata": {},
     "output_type": "execute_result"
    }
   ],
   "source": [
    "data['Сумма операции'].sum()"
   ]
  },
  {
   "cell_type": "code",
   "execution_count": 7,
   "metadata": {},
   "outputs": [
    {
     "data": {
      "text/plain": [
       "Магнит                                         70\n",
       "Whoosh                                         57\n",
       "Планета Здоровья                               31\n",
       "Монетка                                        29\n",
       "Самокат                                        27\n",
       "Плата за предоставление услуги Защита Карты    12\n",
       "Плата за оповещения об операциях               12\n",
       "Проценты по кредиту                            10\n",
       "Магнит Косметик                                 9\n",
       "Art-Yakhobbimarket                              8\n",
       "Sovetskij                                       7\n",
       "Tyumen, Protozanova ,8                          7\n",
       "Перекрёсток                                     7\n",
       "Почта России                                    6\n",
       "Бристоль                                        6\n",
       "Magazin dlya konditero                          6\n",
       "Регулярный платеж                               6\n",
       "Filatovskaya klinika                            6\n",
       "Kapuchinych                                     5\n",
       "Tutu.ru                                         5\n",
       "Погашение задолженности                         5\n",
       "Додо Пицца                                      5\n",
       "Пятерочка                                       5\n",
       "OOO Bionta 42                                   5\n",
       "Klinika na Gubernskoy                           4\n",
       "Платеж на счет обслуживания кредита             4\n",
       "Ашан                                            4\n",
       "Moi_Dokumenty                                   4\n",
       "Лента                                           4\n",
       "Magazin Vega                                    4\n",
       "Name: Описание, dtype: int64"
      ]
     },
     "execution_count": 7,
     "metadata": {},
     "output_type": "execute_result"
    }
   ],
   "source": [
    "data[data['Сумма операции'] < 0]['Описание'].value_counts().head(30)"
   ]
  },
  {
   "cell_type": "code",
   "execution_count": 8,
   "metadata": {},
   "outputs": [
    {
     "data": {
      "text/plain": [
       "*2766    469\n",
       "*6243     66\n",
       "*0428      4\n",
       "Name: Номер карты, dtype: int64"
      ]
     },
     "execution_count": 8,
     "metadata": {},
     "output_type": "execute_result"
    }
   ],
   "source": [
    "data['Номер карты'].value_counts()"
   ]
  }
 ],
 "metadata": {
  "kernelspec": {
   "display_name": "Python 3",
   "language": "python",
   "name": "python3"
  },
  "language_info": {
   "codemirror_mode": {
    "name": "ipython",
    "version": 3
   },
   "file_extension": ".py",
   "mimetype": "text/x-python",
   "name": "python",
   "nbconvert_exporter": "python",
   "pygments_lexer": "ipython3",
   "version": "3.10.10"
  },
  "orig_nbformat": 4,
  "vscode": {
   "interpreter": {
    "hash": "84fee7d3a0e38d6d54c9f22946ce799dea11573b4478e11ef642f6ebc6ef5042"
   }
  }
 },
 "nbformat": 4,
 "nbformat_minor": 2
}
