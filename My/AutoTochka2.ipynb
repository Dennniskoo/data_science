{
 "cells": [
  {
   "cell_type": "code",
   "execution_count": 37,
   "metadata": {},
   "outputs": [],
   "source": [
    "import pandas as pd\n",
    "import numpy as np\n",
    "data = pd.read_csv('data\\\\den_a_tochka.csv', encoding = 'cp1251', sep=';')"
   ]
  },
  {
   "cell_type": "code",
   "execution_count": 38,
   "metadata": {},
   "outputs": [],
   "source": [
    "for col in data.columns:\n",
    "    if data[col].isna().sum() == data.shape[0]:\n",
    "        data.drop(columns=col, inplace=True)\n",
    "\n",
    "drop_cols = [\n",
    "    'Расценка(тариф)', \n",
    "    'КТУ',\n",
    "    'Сумма',\n",
    "    'Объемработ сучетомКТУ(н/час)',\n",
    "    'Unnamed: 3',\n",
    "    'Unnamed: 2',\n",
    "    'Unnamed: 5'\n",
    "    ]\n",
    "data.drop(columns=drop_cols, inplace=True)"
   ]
  },
  {
   "cell_type": "code",
   "execution_count": 39,
   "metadata": {},
   "outputs": [
    {
     "name": "stdout",
     "output_type": "stream",
     "text": [
      "<class 'pandas.core.frame.DataFrame'>\n",
      "RangeIndex: 5405 entries, 0 to 5404\n",
      "Data columns (total 4 columns):\n",
      " #   Column              Non-Null Count  Dtype \n",
      "---  ------              --------------  ----- \n",
      " 0   Наименование работ  5405 non-null   object\n",
      " 1   Unnamed: 1          3858 non-null   object\n",
      " 2   Unnamed: 4          2353 non-null   object\n",
      " 3   Объемработ(н/час)   30 non-null     object\n",
      "dtypes: object(4)\n",
      "memory usage: 169.0+ KB\n"
     ]
    }
   ],
   "source": [
    "data.info()"
   ]
  },
  {
   "cell_type": "code",
   "execution_count": 40,
   "metadata": {},
   "outputs": [
    {
     "name": "stdout",
     "output_type": "stream",
     "text": [
      "3 050 929,000\n"
     ]
    }
   ],
   "source": [
    "# Общий итог\n",
    "print(data['Unnamed: 1'].iloc[-1]) \n",
    "# Убираем его\n",
    "data = data.iloc[:-1]"
   ]
  },
  {
   "cell_type": "code",
   "execution_count": 41,
   "metadata": {},
   "outputs": [
    {
     "name": "stdout",
     "output_type": "stream",
     "text": [
      "<class 'pandas.core.frame.DataFrame'>\n",
      "RangeIndex: 5404 entries, 0 to 5403\n",
      "Data columns (total 5 columns):\n",
      " #   Column              Non-Null Count  Dtype \n",
      "---  ------              --------------  ----- \n",
      " 0   Наименование работ  5404 non-null   object\n",
      " 1   Unnamed: 1          5404 non-null   object\n",
      " 2   Unnamed: 4          5404 non-null   object\n",
      " 3   Объемработ(н/час)   5404 non-null   object\n",
      " 4   Цена                5404 non-null   int64 \n",
      "dtypes: int64(1), object(4)\n",
      "memory usage: 211.2+ KB\n"
     ]
    }
   ],
   "source": [
    "#data[data['Unnamed: 2'].apply(lambda x: x==2350)]\n",
    "#import numpy as np\n",
    "#data[(data['Unnamed: 1'] != data['Unnamed: 5']) & (data['Unnamed: 1'].apply(lambda x: x is not np.nan))]\n",
    "#data['Unnamed: 5'].value_counts()\n",
    "data.fillna('0', inplace=True)\n",
    "#data[(data['Unnamed: 1'] != data['Unnamed: 4']) & data['Unnamed: 1']=='0']\n",
    "data['Цена'] = data['Unnamed: 1'].apply(lambda x: int(x.replace('\\xa0','').split(',')[0])) + data['Объемработ(н/час)'].apply(lambda x: int(x.replace('\\xa0','').split(',')[0]))\n",
    "#data[data['Объемработ(н/час)']!='0']['Объемработ(н/час)']\n",
    "data.info()"
   ]
  },
  {
   "cell_type": "code",
   "execution_count": 42,
   "metadata": {},
   "outputs": [],
   "source": [
    "drop_cols = ['Unnamed: 1', 'Unnamed: 4', 'Объемработ(н/час)']\n",
    "data.drop(columns=drop_cols, inplace=True)"
   ]
  },
  {
   "cell_type": "code",
   "execution_count": 43,
   "metadata": {},
   "outputs": [
    {
     "data": {
      "text/html": [
       "<div>\n",
       "<style scoped>\n",
       "    .dataframe tbody tr th:only-of-type {\n",
       "        vertical-align: middle;\n",
       "    }\n",
       "\n",
       "    .dataframe tbody tr th {\n",
       "        vertical-align: top;\n",
       "    }\n",
       "\n",
       "    .dataframe thead th {\n",
       "        text-align: right;\n",
       "    }\n",
       "</style>\n",
       "<table border=\"1\" class=\"dataframe\">\n",
       "  <thead>\n",
       "    <tr style=\"text-align: right;\">\n",
       "      <th></th>\n",
       "      <th>Наименование работ</th>\n",
       "      <th>Цена</th>\n",
       "    </tr>\n",
       "  </thead>\n",
       "  <tbody>\n",
       "    <tr>\n",
       "      <th>0</th>\n",
       "      <td>Заказ-наряд №: 11 от 30.07.2021, ТС: Hyundai i...</td>\n",
       "      <td>0</td>\n",
       "    </tr>\n",
       "    <tr>\n",
       "      <th>1</th>\n",
       "      <td>Заправка кондиц.(газ,масло)и экспресс диагност...</td>\n",
       "      <td>1700</td>\n",
       "    </tr>\n",
       "    <tr>\n",
       "      <th>2</th>\n",
       "      <td>Итого</td>\n",
       "      <td>1700</td>\n",
       "    </tr>\n",
       "    <tr>\n",
       "      <th>3</th>\n",
       "      <td>Заказ-наряд №: 16 от 31.07.2021, ТС: ВАЗ 2109 ...</td>\n",
       "      <td>0</td>\n",
       "    </tr>\n",
       "    <tr>\n",
       "      <th>4</th>\n",
       "      <td>Ведомая диагностика поиска неисправностей ,чте...</td>\n",
       "      <td>1000</td>\n",
       "    </tr>\n",
       "    <tr>\n",
       "      <th>...</th>\n",
       "      <td>...</td>\n",
       "      <td>...</td>\n",
       "    </tr>\n",
       "    <tr>\n",
       "      <th>5399</th>\n",
       "      <td>Электротехнические работы</td>\n",
       "      <td>2000</td>\n",
       "    </tr>\n",
       "    <tr>\n",
       "      <th>5400</th>\n",
       "      <td>Итого</td>\n",
       "      <td>2000</td>\n",
       "    </tr>\n",
       "    <tr>\n",
       "      <th>5401</th>\n",
       "      <td>Заказ-наряд №: 8717 от 19.02.2023, ТС: Chevrol...</td>\n",
       "      <td>0</td>\n",
       "    </tr>\n",
       "    <tr>\n",
       "      <th>5402</th>\n",
       "      <td>Адаптация</td>\n",
       "      <td>500</td>\n",
       "    </tr>\n",
       "    <tr>\n",
       "      <th>5403</th>\n",
       "      <td>Итого</td>\n",
       "      <td>500</td>\n",
       "    </tr>\n",
       "  </tbody>\n",
       "</table>\n",
       "<p>5404 rows × 2 columns</p>\n",
       "</div>"
      ],
      "text/plain": [
       "                                     Наименование работ  Цена\n",
       "0     Заказ-наряд №: 11 от 30.07.2021, ТС: Hyundai i...     0\n",
       "1     Заправка кондиц.(газ,масло)и экспресс диагност...  1700\n",
       "2                                                 Итого  1700\n",
       "3     Заказ-наряд №: 16 от 31.07.2021, ТС: ВАЗ 2109 ...     0\n",
       "4     Ведомая диагностика поиска неисправностей ,чте...  1000\n",
       "...                                                 ...   ...\n",
       "5399                          Электротехнические работы  2000\n",
       "5400                                              Итого  2000\n",
       "5401  Заказ-наряд №: 8717 от 19.02.2023, ТС: Chevrol...     0\n",
       "5402                                          Адаптация   500\n",
       "5403                                              Итого   500\n",
       "\n",
       "[5404 rows x 2 columns]"
      ]
     },
     "execution_count": 43,
     "metadata": {},
     "output_type": "execute_result"
    }
   ],
   "source": [
    "data"
   ]
  },
  {
   "cell_type": "code",
   "execution_count": 44,
   "metadata": {},
   "outputs": [],
   "source": [
    "data['Дата'] = pd.to_datetime(data['Наименование работ'].apply(lambda x: x[x.find('от')+3:x.find(',')] if 'Заказ-наряд №' in x else np.nan), dayfirst=True)\n",
    "data['Дата'].fillna(method='ffill', inplace=True)"
   ]
  },
  {
   "attachments": {},
   "cell_type": "markdown",
   "metadata": {},
   "source": [
    "# HERE"
   ]
  },
  {
   "cell_type": "code",
   "execution_count": 64,
   "metadata": {},
   "outputs": [],
   "source": [
    "# удаляем итоги и заказ-наряды\n",
    "df_rabota = data[data['Наименование работ'].apply(lambda x: (x != 'Итого') and ('Заказ-наряд №' not in x))]\n",
    "df_rabota.reset_index(inplace=True)\n",
    "itogi = data['Цена'][data['Наименование работ'].apply(lambda x: x == 'Итого')]\n",
    "#itogi.reset_index(inplace=True)\n",
    "zakaz = data[['Наименование работ', 'Дата']][data['Наименование работ'].apply(lambda x: 'Заказ-наряд №' in x)]\n",
    "#zakaz.reset_index(inplace=True)\n",
    "df_zakaz = pd.concat([zakaz, itogi], axis=1, ignore_index=True)   # РАЗБЕРИСЬ С ИНДЕКСАМИ И КОНКАТЕНАЦИЕЙ!!!!!!!!!!!!!!!!"
   ]
  },
  {
   "attachments": {},
   "cell_type": "markdown",
   "metadata": {},
   "source": [
    "#                        HERE"
   ]
  },
  {
   "cell_type": "code",
   "execution_count": 62,
   "metadata": {},
   "outputs": [
    {
     "data": {
      "text/plain": [
       "2       1700\n",
       "5       1000\n",
       "8       1000\n",
       "11      1000\n",
       "14      8000\n",
       "        ... \n",
       "5391    1500\n",
       "5394     500\n",
       "5397     300\n",
       "5400    2000\n",
       "5403     500\n",
       "Name: Цена, Length: 1517, dtype: int64"
      ]
     },
     "execution_count": 62,
     "metadata": {},
     "output_type": "execute_result"
    }
   ],
   "source": [
    "itogi"
   ]
  },
  {
   "cell_type": "code",
   "execution_count": 65,
   "metadata": {},
   "outputs": [
    {
     "data": {
      "text/html": [
       "<div>\n",
       "<style scoped>\n",
       "    .dataframe tbody tr th:only-of-type {\n",
       "        vertical-align: middle;\n",
       "    }\n",
       "\n",
       "    .dataframe tbody tr th {\n",
       "        vertical-align: top;\n",
       "    }\n",
       "\n",
       "    .dataframe thead th {\n",
       "        text-align: right;\n",
       "    }\n",
       "</style>\n",
       "<table border=\"1\" class=\"dataframe\">\n",
       "  <thead>\n",
       "    <tr style=\"text-align: right;\">\n",
       "      <th></th>\n",
       "      <th>0</th>\n",
       "      <th>1</th>\n",
       "      <th>2</th>\n",
       "    </tr>\n",
       "  </thead>\n",
       "  <tbody>\n",
       "    <tr>\n",
       "      <th>0</th>\n",
       "      <td>Заказ-наряд №: 11 от 30.07.2021, ТС: Hyundai i...</td>\n",
       "      <td>2021-07-30</td>\n",
       "      <td>NaN</td>\n",
       "    </tr>\n",
       "    <tr>\n",
       "      <th>3</th>\n",
       "      <td>Заказ-наряд №: 16 от 31.07.2021, ТС: ВАЗ 2109 ...</td>\n",
       "      <td>2021-07-31</td>\n",
       "      <td>NaN</td>\n",
       "    </tr>\n",
       "    <tr>\n",
       "      <th>6</th>\n",
       "      <td>Заказ-наряд №: 18 от 31.07.2021, ТС: ВАЗ 2114 ...</td>\n",
       "      <td>2021-07-31</td>\n",
       "      <td>NaN</td>\n",
       "    </tr>\n",
       "    <tr>\n",
       "      <th>9</th>\n",
       "      <td>Заказ-наряд №: 19 от 31.07.2021, ТС: Toyota Ca...</td>\n",
       "      <td>2021-07-31</td>\n",
       "      <td>NaN</td>\n",
       "    </tr>\n",
       "    <tr>\n",
       "      <th>12</th>\n",
       "      <td>Заказ-наряд №: 20 от 31.07.2021, ТС: Hyundai S...</td>\n",
       "      <td>2021-07-31</td>\n",
       "      <td>NaN</td>\n",
       "    </tr>\n",
       "    <tr>\n",
       "      <th>...</th>\n",
       "      <td>...</td>\n",
       "      <td>...</td>\n",
       "      <td>...</td>\n",
       "    </tr>\n",
       "    <tr>\n",
       "      <th>5391</th>\n",
       "      <td>NaN</td>\n",
       "      <td>NaT</td>\n",
       "      <td>1500.0</td>\n",
       "    </tr>\n",
       "    <tr>\n",
       "      <th>5394</th>\n",
       "      <td>NaN</td>\n",
       "      <td>NaT</td>\n",
       "      <td>500.0</td>\n",
       "    </tr>\n",
       "    <tr>\n",
       "      <th>5397</th>\n",
       "      <td>NaN</td>\n",
       "      <td>NaT</td>\n",
       "      <td>300.0</td>\n",
       "    </tr>\n",
       "    <tr>\n",
       "      <th>5400</th>\n",
       "      <td>NaN</td>\n",
       "      <td>NaT</td>\n",
       "      <td>2000.0</td>\n",
       "    </tr>\n",
       "    <tr>\n",
       "      <th>5403</th>\n",
       "      <td>NaN</td>\n",
       "      <td>NaT</td>\n",
       "      <td>500.0</td>\n",
       "    </tr>\n",
       "  </tbody>\n",
       "</table>\n",
       "<p>3034 rows × 3 columns</p>\n",
       "</div>"
      ],
      "text/plain": [
       "                                                      0          1       2\n",
       "0     Заказ-наряд №: 11 от 30.07.2021, ТС: Hyundai i... 2021-07-30     NaN\n",
       "3     Заказ-наряд №: 16 от 31.07.2021, ТС: ВАЗ 2109 ... 2021-07-31     NaN\n",
       "6     Заказ-наряд №: 18 от 31.07.2021, ТС: ВАЗ 2114 ... 2021-07-31     NaN\n",
       "9     Заказ-наряд №: 19 от 31.07.2021, ТС: Toyota Ca... 2021-07-31     NaN\n",
       "12    Заказ-наряд №: 20 от 31.07.2021, ТС: Hyundai S... 2021-07-31     NaN\n",
       "...                                                 ...        ...     ...\n",
       "5391                                                NaN        NaT  1500.0\n",
       "5394                                                NaN        NaT   500.0\n",
       "5397                                                NaN        NaT   300.0\n",
       "5400                                                NaN        NaT  2000.0\n",
       "5403                                                NaN        NaT   500.0\n",
       "\n",
       "[3034 rows x 3 columns]"
      ]
     },
     "execution_count": 65,
     "metadata": {},
     "output_type": "execute_result"
    }
   ],
   "source": [
    "df_zakaz"
   ]
  },
  {
   "cell_type": "code",
   "execution_count": 54,
   "metadata": {},
   "outputs": [
    {
     "data": {
      "text/html": [
       "<div>\n",
       "<style scoped>\n",
       "    .dataframe tbody tr th:only-of-type {\n",
       "        vertical-align: middle;\n",
       "    }\n",
       "\n",
       "    .dataframe tbody tr th {\n",
       "        vertical-align: top;\n",
       "    }\n",
       "\n",
       "    .dataframe thead th {\n",
       "        text-align: right;\n",
       "    }\n",
       "</style>\n",
       "<table border=\"1\" class=\"dataframe\">\n",
       "  <thead>\n",
       "    <tr style=\"text-align: right;\">\n",
       "      <th></th>\n",
       "      <th>Наименование работ</th>\n",
       "      <th>Цена</th>\n",
       "      <th>Дата</th>\n",
       "    </tr>\n",
       "  </thead>\n",
       "  <tbody>\n",
       "    <tr>\n",
       "      <th>1</th>\n",
       "      <td>Заправка кондиц.(газ,масло)и экспресс диагност...</td>\n",
       "      <td>1700</td>\n",
       "      <td>2021-07-30</td>\n",
       "    </tr>\n",
       "    <tr>\n",
       "      <th>4</th>\n",
       "      <td>Ведомая диагностика поиска неисправностей ,чте...</td>\n",
       "      <td>1000</td>\n",
       "      <td>2021-07-31</td>\n",
       "    </tr>\n",
       "    <tr>\n",
       "      <th>7</th>\n",
       "      <td>Ведомая диагностика поиска неисправностей ,чте...</td>\n",
       "      <td>1000</td>\n",
       "      <td>2021-07-31</td>\n",
       "    </tr>\n",
       "    <tr>\n",
       "      <th>10</th>\n",
       "      <td>Ремонт генератора</td>\n",
       "      <td>1000</td>\n",
       "      <td>2021-07-31</td>\n",
       "    </tr>\n",
       "    <tr>\n",
       "      <th>13</th>\n",
       "      <td>Электротехнические работы прошивка системы</td>\n",
       "      <td>8000</td>\n",
       "      <td>2021-07-31</td>\n",
       "    </tr>\n",
       "    <tr>\n",
       "      <th>...</th>\n",
       "      <td>...</td>\n",
       "      <td>...</td>\n",
       "      <td>...</td>\n",
       "    </tr>\n",
       "    <tr>\n",
       "      <th>5390</th>\n",
       "      <td>Ремонт(восстановление)электропроводки фар с за...</td>\n",
       "      <td>1500</td>\n",
       "      <td>2023-02-15</td>\n",
       "    </tr>\n",
       "    <tr>\n",
       "      <th>5393</th>\n",
       "      <td>Диагностика электрооборудования</td>\n",
       "      <td>500</td>\n",
       "      <td>2023-02-16</td>\n",
       "    </tr>\n",
       "    <tr>\n",
       "      <th>5396</th>\n",
       "      <td>Проверка ламп</td>\n",
       "      <td>300</td>\n",
       "      <td>2023-02-17</td>\n",
       "    </tr>\n",
       "    <tr>\n",
       "      <th>5399</th>\n",
       "      <td>Электротехнические работы</td>\n",
       "      <td>2000</td>\n",
       "      <td>2023-02-18</td>\n",
       "    </tr>\n",
       "    <tr>\n",
       "      <th>5402</th>\n",
       "      <td>Адаптация</td>\n",
       "      <td>500</td>\n",
       "      <td>2023-02-19</td>\n",
       "    </tr>\n",
       "  </tbody>\n",
       "</table>\n",
       "<p>2370 rows × 3 columns</p>\n",
       "</div>"
      ],
      "text/plain": [
       "                                     Наименование работ  Цена       Дата\n",
       "1     Заправка кондиц.(газ,масло)и экспресс диагност...  1700 2021-07-30\n",
       "4     Ведомая диагностика поиска неисправностей ,чте...  1000 2021-07-31\n",
       "7     Ведомая диагностика поиска неисправностей ,чте...  1000 2021-07-31\n",
       "10                                    Ремонт генератора  1000 2021-07-31\n",
       "13           Электротехнические работы прошивка системы  8000 2021-07-31\n",
       "...                                                 ...   ...        ...\n",
       "5390  Ремонт(восстановление)электропроводки фар с за...  1500 2023-02-15\n",
       "5393                    Диагностика электрооборудования   500 2023-02-16\n",
       "5396                                      Проверка ламп   300 2023-02-17\n",
       "5399                          Электротехнические работы  2000 2023-02-18\n",
       "5402                                          Адаптация   500 2023-02-19\n",
       "\n",
       "[2370 rows x 3 columns]"
      ]
     },
     "execution_count": 54,
     "metadata": {},
     "output_type": "execute_result"
    }
   ],
   "source": [
    "df_rabota"
   ]
  }
 ],
 "metadata": {
  "kernelspec": {
   "display_name": "Python 3",
   "language": "python",
   "name": "python3"
  },
  "language_info": {
   "codemirror_mode": {
    "name": "ipython",
    "version": 3
   },
   "file_extension": ".py",
   "mimetype": "text/x-python",
   "name": "python",
   "nbconvert_exporter": "python",
   "pygments_lexer": "ipython3",
   "version": "3.10.10"
  },
  "orig_nbformat": 4,
  "vscode": {
   "interpreter": {
    "hash": "84fee7d3a0e38d6d54c9f22946ce799dea11573b4478e11ef642f6ebc6ef5042"
   }
  }
 },
 "nbformat": 4,
 "nbformat_minor": 2
}
