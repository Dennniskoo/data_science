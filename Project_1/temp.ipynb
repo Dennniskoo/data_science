{
 "cells": [
  {
   "cell_type": "code",
   "execution_count": 1,
   "metadata": {},
   "outputs": [],
   "source": [
    "import pandas as pd\n",
    "data = pd.read_csv('Data\\\\dst-3.0_16_1_hh_database.csv', sep=';')"
   ]
  },
  {
   "cell_type": "code",
   "execution_count": 61,
   "metadata": {},
   "outputs": [
    {
     "data": {
      "text/plain": [
       "Системный администратор                                                  3099\n",
       "Инженер                                                                   966\n",
       "Аналитик                                                                  809\n",
       "Менеджер проектов                                                         745\n",
       "Руководитель проекта                                                      718\n",
       "                                                                         ... \n",
       "Системный администратор Linux, DevOps, Разработчик Golang                   1\n",
       "Инженер КИПиА,инженер АСУТП ,видеоинженер                                   1\n",
       "SEO-специалист | Специалист по интернет-рекламе | Интернет-маркетолог       1\n",
       "Специалист технических систем безопастности                                 1\n",
       "Аналитик данных, Математик                                                  1\n",
       "Name: Ищет работу на должность:, Length: 14929, dtype: int64"
      ]
     },
     "execution_count": 61,
     "metadata": {},
     "output_type": "execute_result"
    }
   ],
   "source": [
    "data['Ищет работу на должность:'].value_counts()"
   ]
  },
  {
   "cell_type": "code",
   "execution_count": 75,
   "metadata": {},
   "outputs": [
    {
     "data": {
      "text/plain": [
       "True    44744\n",
       "Name: Образование и ВУЗ, dtype: int64"
      ]
     },
     "execution_count": 75,
     "metadata": {},
     "output_type": "execute_result"
    }
   ],
   "source": [
    "data['Образование и ВУЗ'].apply(lambda x: 'образование' in x).value_counts()"
   ]
  },
  {
   "cell_type": "code",
   "execution_count": 79,
   "metadata": {},
   "outputs": [
    {
     "data": {
      "text/plain": [
       "Высшее                 33863\n",
       "Среднее специальное     5765\n",
       "Неоконченное высшее     4557\n",
       "Среднее                  559\n",
       "Name: Образование, dtype: int64"
      ]
     },
     "execution_count": 79,
     "metadata": {},
     "output_type": "execute_result"
    }
   ],
   "source": [
    "data['Образование'] = data['Образование и ВУЗ'].apply(lambda x: x[:x.find('образование')-1]).astype('category')\n",
    "data['Образование'].value_counts()"
   ]
  }
 ],
 "metadata": {
  "kernelspec": {
   "display_name": "Python 3",
   "language": "python",
   "name": "python3"
  },
  "language_info": {
   "codemirror_mode": {
    "name": "ipython",
    "version": 3
   },
   "file_extension": ".py",
   "mimetype": "text/x-python",
   "name": "python",
   "nbconvert_exporter": "python",
   "pygments_lexer": "ipython3",
   "version": "3.10.9"
  },
  "orig_nbformat": 4,
  "vscode": {
   "interpreter": {
    "hash": "84fee7d3a0e38d6d54c9f22946ce799dea11573b4478e11ef642f6ebc6ef5042"
   }
  }
 },
 "nbformat": 4,
 "nbformat_minor": 2
}
