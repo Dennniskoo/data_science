{
 "cells": [
  {
   "cell_type": "code",
   "execution_count": 2,
   "metadata": {},
   "outputs": [],
   "source": [
    "import pandas as pd\n",
    "data = pd.read_csv('Data\\\\dst-3.0_16_1_hh_database.csv', sep=';')"
   ]
  },
  {
   "cell_type": "code",
   "execution_count": 2,
   "metadata": {},
   "outputs": [
    {
     "data": {
      "text/plain": [
       "Системный администратор                                                  3099\n",
       "Инженер                                                                   966\n",
       "Аналитик                                                                  809\n",
       "Менеджер проектов                                                         745\n",
       "Руководитель проекта                                                      718\n",
       "                                                                         ... \n",
       "Системный администратор Linux, DevOps, Разработчик Golang                   1\n",
       "Инженер КИПиА,инженер АСУТП ,видеоинженер                                   1\n",
       "SEO-специалист | Специалист по интернет-рекламе | Интернет-маркетолог       1\n",
       "Специалист технических систем безопастности                                 1\n",
       "Аналитик данных, Математик                                                  1\n",
       "Name: Ищет работу на должность:, Length: 14929, dtype: int64"
      ]
     },
     "execution_count": 2,
     "metadata": {},
     "output_type": "execute_result"
    }
   ],
   "source": [
    "data['Ищет работу на должность:'].value_counts()"
   ]
  },
  {
   "cell_type": "code",
   "execution_count": 3,
   "metadata": {},
   "outputs": [
    {
     "data": {
      "text/plain": [
       "True    44744\n",
       "Name: Образование и ВУЗ, dtype: int64"
      ]
     },
     "execution_count": 3,
     "metadata": {},
     "output_type": "execute_result"
    }
   ],
   "source": [
    "data['Образование и ВУЗ'].apply(lambda x: 'образование' in x).value_counts()"
   ]
  },
  {
   "cell_type": "code",
   "execution_count": 4,
   "metadata": {},
   "outputs": [
    {
     "data": {
      "text/plain": [
       "Высшее                 33863\n",
       "Среднее специальное     5765\n",
       "Неоконченное высшее     4557\n",
       "Среднее                  559\n",
       "Name: Образование, dtype: int64"
      ]
     },
     "execution_count": 4,
     "metadata": {},
     "output_type": "execute_result"
    }
   ],
   "source": [
    "data['Образование'] = data['Образование и ВУЗ'].apply(lambda x: x[:x.find('образование')-1]).astype('category')\n",
    "data['Образование'].value_counts()"
   ]
  },
  {
   "cell_type": "code",
   "execution_count": 18,
   "metadata": {},
   "outputs": [
    {
     "data": {
      "text/plain": [
       "{'волонтерство',\n",
       " 'полная занятость',\n",
       " 'проектная работа',\n",
       " 'стажировка',\n",
       " 'частичная занятость'}"
      ]
     },
     "execution_count": 18,
     "metadata": {},
     "output_type": "execute_result"
    }
   ],
   "source": [
    "def extract_unique_elements(col:pd.Series):\n",
    "    result = set()\n",
    "    for column_value in col:\n",
    "        for element in column_value.split(','):\n",
    "            result.add(element.strip())\n",
    "    return result\n",
    "\n",
    "extract_unique_elements(data['Занятость'])"
   ]
  },
  {
   "cell_type": "code",
   "execution_count": 3,
   "metadata": {},
   "outputs": [
    {
     "data": {
      "text/html": [
       "<div>\n",
       "<style scoped>\n",
       "    .dataframe tbody tr th:only-of-type {\n",
       "        vertical-align: middle;\n",
       "    }\n",
       "\n",
       "    .dataframe tbody tr th {\n",
       "        vertical-align: top;\n",
       "    }\n",
       "\n",
       "    .dataframe thead th {\n",
       "        text-align: right;\n",
       "    }\n",
       "</style>\n",
       "<table border=\"1\" class=\"dataframe\">\n",
       "  <thead>\n",
       "    <tr style=\"text-align: right;\">\n",
       "      <th></th>\n",
       "      <th>currency</th>\n",
       "      <th>per</th>\n",
       "      <th>date</th>\n",
       "      <th>time</th>\n",
       "      <th>close</th>\n",
       "      <th>vol</th>\n",
       "      <th>proportion</th>\n",
       "    </tr>\n",
       "  </thead>\n",
       "  <tbody>\n",
       "    <tr>\n",
       "      <th>0</th>\n",
       "      <td>USD</td>\n",
       "      <td>D</td>\n",
       "      <td>2017-12-29</td>\n",
       "      <td>00:00</td>\n",
       "      <td>57.6291</td>\n",
       "      <td>0</td>\n",
       "      <td>1</td>\n",
       "    </tr>\n",
       "    <tr>\n",
       "      <th>1</th>\n",
       "      <td>USD</td>\n",
       "      <td>D</td>\n",
       "      <td>2017-12-30</td>\n",
       "      <td>00:00</td>\n",
       "      <td>57.6002</td>\n",
       "      <td>0</td>\n",
       "      <td>1</td>\n",
       "    </tr>\n",
       "    <tr>\n",
       "      <th>2</th>\n",
       "      <td>USD</td>\n",
       "      <td>D</td>\n",
       "      <td>2017-12-31</td>\n",
       "      <td>00:00</td>\n",
       "      <td>57.6002</td>\n",
       "      <td>0</td>\n",
       "      <td>1</td>\n",
       "    </tr>\n",
       "    <tr>\n",
       "      <th>3</th>\n",
       "      <td>USD</td>\n",
       "      <td>D</td>\n",
       "      <td>2018-01-01</td>\n",
       "      <td>00:00</td>\n",
       "      <td>57.6002</td>\n",
       "      <td>0</td>\n",
       "      <td>1</td>\n",
       "    </tr>\n",
       "    <tr>\n",
       "      <th>4</th>\n",
       "      <td>USD</td>\n",
       "      <td>D</td>\n",
       "      <td>2018-02-01</td>\n",
       "      <td>00:00</td>\n",
       "      <td>57.6002</td>\n",
       "      <td>0</td>\n",
       "      <td>1</td>\n",
       "    </tr>\n",
       "    <tr>\n",
       "      <th>5</th>\n",
       "      <td>USD</td>\n",
       "      <td>D</td>\n",
       "      <td>2018-03-01</td>\n",
       "      <td>00:00</td>\n",
       "      <td>57.6002</td>\n",
       "      <td>0</td>\n",
       "      <td>1</td>\n",
       "    </tr>\n",
       "    <tr>\n",
       "      <th>6</th>\n",
       "      <td>USD</td>\n",
       "      <td>D</td>\n",
       "      <td>2018-04-01</td>\n",
       "      <td>00:00</td>\n",
       "      <td>57.6002</td>\n",
       "      <td>0</td>\n",
       "      <td>1</td>\n",
       "    </tr>\n",
       "    <tr>\n",
       "      <th>7</th>\n",
       "      <td>USD</td>\n",
       "      <td>D</td>\n",
       "      <td>2018-05-01</td>\n",
       "      <td>00:00</td>\n",
       "      <td>57.6002</td>\n",
       "      <td>0</td>\n",
       "      <td>1</td>\n",
       "    </tr>\n",
       "    <tr>\n",
       "      <th>8</th>\n",
       "      <td>USD</td>\n",
       "      <td>D</td>\n",
       "      <td>2018-06-01</td>\n",
       "      <td>00:00</td>\n",
       "      <td>57.6002</td>\n",
       "      <td>0</td>\n",
       "      <td>1</td>\n",
       "    </tr>\n",
       "    <tr>\n",
       "      <th>9</th>\n",
       "      <td>USD</td>\n",
       "      <td>D</td>\n",
       "      <td>2018-07-01</td>\n",
       "      <td>00:00</td>\n",
       "      <td>57.6002</td>\n",
       "      <td>0</td>\n",
       "      <td>1</td>\n",
       "    </tr>\n",
       "  </tbody>\n",
       "</table>\n",
       "</div>"
      ],
      "text/plain": [
       "  currency per       date   time    close  vol  proportion\n",
       "0      USD   D 2017-12-29  00:00  57.6291    0           1\n",
       "1      USD   D 2017-12-30  00:00  57.6002    0           1\n",
       "2      USD   D 2017-12-31  00:00  57.6002    0           1\n",
       "3      USD   D 2018-01-01  00:00  57.6002    0           1\n",
       "4      USD   D 2018-02-01  00:00  57.6002    0           1\n",
       "5      USD   D 2018-03-01  00:00  57.6002    0           1\n",
       "6      USD   D 2018-04-01  00:00  57.6002    0           1\n",
       "7      USD   D 2018-05-01  00:00  57.6002    0           1\n",
       "8      USD   D 2018-06-01  00:00  57.6002    0           1\n",
       "9      USD   D 2018-07-01  00:00  57.6002    0           1"
      ]
     },
     "execution_count": 3,
     "metadata": {},
     "output_type": "execute_result"
    }
   ],
   "source": [
    "exchange_rates = pd.read_csv('Data\\\\ExchangeRates.csv')\n",
    "exchange_rates['date'] = pd.to_datetime(exchange_rates['date'])\n",
    "exchange_rates.head(10)"
   ]
  }
 ],
 "metadata": {
  "kernelspec": {
   "display_name": "Python 3",
   "language": "python",
   "name": "python3"
  },
  "language_info": {
   "codemirror_mode": {
    "name": "ipython",
    "version": 3
   },
   "file_extension": ".py",
   "mimetype": "text/x-python",
   "name": "python",
   "nbconvert_exporter": "python",
   "pygments_lexer": "ipython3",
   "version": "3.10.4 (tags/v3.10.4:9d38120, Mar 23 2022, 23:13:41) [MSC v.1929 64 bit (AMD64)]"
  },
  "orig_nbformat": 4,
  "vscode": {
   "interpreter": {
    "hash": "d3e10ef16274dd72e574b8fa73b58450b957d8421a2901baded3cca26fcf5dda"
   }
  }
 },
 "nbformat": 4,
 "nbformat_minor": 2
}
