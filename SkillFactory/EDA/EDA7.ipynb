{
 "cells": [
  {
   "cell_type": "code",
   "execution_count": 25,
   "metadata": {},
   "outputs": [],
   "source": [
    "import pandas as pd\n",
    "from sklearn import preprocessing\n",
    "\n",
    "\n",
    "data = pd.read_csv('heart.zip')"
   ]
  },
  {
   "cell_type": "code",
   "execution_count": 26,
   "metadata": {},
   "outputs": [
    {
     "data": {
      "text/plain": [
       "79"
      ]
     },
     "execution_count": 26,
     "metadata": {},
     "output_type": "execute_result"
    }
   ],
   "source": [
    "data['old'] = data['age'] > 60\n",
    "data['old'].sum()"
   ]
  },
  {
   "cell_type": "code",
   "execution_count": 27,
   "metadata": {},
   "outputs": [],
   "source": [
    "def trestbps_mean(data):\n",
    "    if data['age'] <= 20: \n",
    "        if data['sex']==1: return 123\n",
    "        return 116\n",
    "    if data['age'] <= 30:\n",
    "        if data['sex']==1: return 126\n",
    "        return 120\n",
    "    if data['age'] <= 40:\n",
    "        if data['sex']==1: return 129\n",
    "        return 127\n",
    "    if data['age'] <= 50:\n",
    "        if data['sex']==1: return 135\n",
    "        return 137\n",
    "    if data['age'] <= 60:\n",
    "        if data['sex']==1: return 142\n",
    "        return 144\n",
    "    if data['sex']==1: return 142\n",
    "    return 159\n",
    "\n",
    "data['trestbps_mean'] =  data[['sex', 'age']].apply(trestbps_mean, axis=1)"
   ]
  },
  {
   "cell_type": "code",
   "execution_count": 28,
   "metadata": {},
   "outputs": [
    {
     "data": {
      "text/plain": [
       "142"
      ]
     },
     "execution_count": 28,
     "metadata": {},
     "output_type": "execute_result"
    }
   ],
   "source": [
    "data['trestbps_mean'].iloc[300]"
   ]
  },
  {
   "cell_type": "code",
   "execution_count": 29,
   "metadata": {},
   "outputs": [
    {
     "data": {
      "text/html": [
       "<div>\n",
       "<style scoped>\n",
       "    .dataframe tbody tr th:only-of-type {\n",
       "        vertical-align: middle;\n",
       "    }\n",
       "\n",
       "    .dataframe tbody tr th {\n",
       "        vertical-align: top;\n",
       "    }\n",
       "\n",
       "    .dataframe thead th {\n",
       "        text-align: right;\n",
       "    }\n",
       "</style>\n",
       "<table border=\"1\" class=\"dataframe\">\n",
       "  <thead>\n",
       "    <tr style=\"text-align: right;\">\n",
       "      <th></th>\n",
       "      <th>age</th>\n",
       "      <th>sex</th>\n",
       "      <th>cp</th>\n",
       "      <th>trestbps</th>\n",
       "      <th>chol</th>\n",
       "      <th>fbs</th>\n",
       "      <th>restecg</th>\n",
       "      <th>thalach</th>\n",
       "      <th>exang</th>\n",
       "      <th>oldpeak</th>\n",
       "      <th>slope</th>\n",
       "      <th>ca</th>\n",
       "      <th>thal</th>\n",
       "      <th>target</th>\n",
       "      <th>old</th>\n",
       "      <th>trestbps_mean</th>\n",
       "    </tr>\n",
       "  </thead>\n",
       "  <tbody>\n",
       "    <tr>\n",
       "      <th>0</th>\n",
       "      <td>63</td>\n",
       "      <td>1</td>\n",
       "      <td>3</td>\n",
       "      <td>145</td>\n",
       "      <td>233</td>\n",
       "      <td>1</td>\n",
       "      <td>0</td>\n",
       "      <td>150</td>\n",
       "      <td>0</td>\n",
       "      <td>2.3</td>\n",
       "      <td>0</td>\n",
       "      <td>0</td>\n",
       "      <td>1</td>\n",
       "      <td>1</td>\n",
       "      <td>True</td>\n",
       "      <td>142</td>\n",
       "    </tr>\n",
       "    <tr>\n",
       "      <th>1</th>\n",
       "      <td>37</td>\n",
       "      <td>1</td>\n",
       "      <td>2</td>\n",
       "      <td>130</td>\n",
       "      <td>250</td>\n",
       "      <td>0</td>\n",
       "      <td>1</td>\n",
       "      <td>187</td>\n",
       "      <td>0</td>\n",
       "      <td>3.5</td>\n",
       "      <td>0</td>\n",
       "      <td>0</td>\n",
       "      <td>2</td>\n",
       "      <td>1</td>\n",
       "      <td>False</td>\n",
       "      <td>129</td>\n",
       "    </tr>\n",
       "    <tr>\n",
       "      <th>2</th>\n",
       "      <td>41</td>\n",
       "      <td>0</td>\n",
       "      <td>1</td>\n",
       "      <td>130</td>\n",
       "      <td>204</td>\n",
       "      <td>0</td>\n",
       "      <td>0</td>\n",
       "      <td>172</td>\n",
       "      <td>0</td>\n",
       "      <td>1.4</td>\n",
       "      <td>2</td>\n",
       "      <td>0</td>\n",
       "      <td>2</td>\n",
       "      <td>1</td>\n",
       "      <td>False</td>\n",
       "      <td>137</td>\n",
       "    </tr>\n",
       "    <tr>\n",
       "      <th>3</th>\n",
       "      <td>56</td>\n",
       "      <td>1</td>\n",
       "      <td>1</td>\n",
       "      <td>120</td>\n",
       "      <td>236</td>\n",
       "      <td>0</td>\n",
       "      <td>1</td>\n",
       "      <td>178</td>\n",
       "      <td>0</td>\n",
       "      <td>0.8</td>\n",
       "      <td>2</td>\n",
       "      <td>0</td>\n",
       "      <td>2</td>\n",
       "      <td>1</td>\n",
       "      <td>False</td>\n",
       "      <td>142</td>\n",
       "    </tr>\n",
       "    <tr>\n",
       "      <th>4</th>\n",
       "      <td>57</td>\n",
       "      <td>0</td>\n",
       "      <td>0</td>\n",
       "      <td>120</td>\n",
       "      <td>354</td>\n",
       "      <td>0</td>\n",
       "      <td>1</td>\n",
       "      <td>163</td>\n",
       "      <td>1</td>\n",
       "      <td>0.6</td>\n",
       "      <td>2</td>\n",
       "      <td>0</td>\n",
       "      <td>2</td>\n",
       "      <td>1</td>\n",
       "      <td>False</td>\n",
       "      <td>144</td>\n",
       "    </tr>\n",
       "    <tr>\n",
       "      <th>...</th>\n",
       "      <td>...</td>\n",
       "      <td>...</td>\n",
       "      <td>...</td>\n",
       "      <td>...</td>\n",
       "      <td>...</td>\n",
       "      <td>...</td>\n",
       "      <td>...</td>\n",
       "      <td>...</td>\n",
       "      <td>...</td>\n",
       "      <td>...</td>\n",
       "      <td>...</td>\n",
       "      <td>...</td>\n",
       "      <td>...</td>\n",
       "      <td>...</td>\n",
       "      <td>...</td>\n",
       "      <td>...</td>\n",
       "    </tr>\n",
       "    <tr>\n",
       "      <th>298</th>\n",
       "      <td>57</td>\n",
       "      <td>0</td>\n",
       "      <td>0</td>\n",
       "      <td>140</td>\n",
       "      <td>241</td>\n",
       "      <td>0</td>\n",
       "      <td>1</td>\n",
       "      <td>123</td>\n",
       "      <td>1</td>\n",
       "      <td>0.2</td>\n",
       "      <td>1</td>\n",
       "      <td>0</td>\n",
       "      <td>3</td>\n",
       "      <td>0</td>\n",
       "      <td>False</td>\n",
       "      <td>144</td>\n",
       "    </tr>\n",
       "    <tr>\n",
       "      <th>299</th>\n",
       "      <td>45</td>\n",
       "      <td>1</td>\n",
       "      <td>3</td>\n",
       "      <td>110</td>\n",
       "      <td>264</td>\n",
       "      <td>0</td>\n",
       "      <td>1</td>\n",
       "      <td>132</td>\n",
       "      <td>0</td>\n",
       "      <td>1.2</td>\n",
       "      <td>1</td>\n",
       "      <td>0</td>\n",
       "      <td>3</td>\n",
       "      <td>0</td>\n",
       "      <td>False</td>\n",
       "      <td>135</td>\n",
       "    </tr>\n",
       "    <tr>\n",
       "      <th>300</th>\n",
       "      <td>68</td>\n",
       "      <td>1</td>\n",
       "      <td>0</td>\n",
       "      <td>144</td>\n",
       "      <td>193</td>\n",
       "      <td>1</td>\n",
       "      <td>1</td>\n",
       "      <td>141</td>\n",
       "      <td>0</td>\n",
       "      <td>3.4</td>\n",
       "      <td>1</td>\n",
       "      <td>2</td>\n",
       "      <td>3</td>\n",
       "      <td>0</td>\n",
       "      <td>True</td>\n",
       "      <td>142</td>\n",
       "    </tr>\n",
       "    <tr>\n",
       "      <th>301</th>\n",
       "      <td>57</td>\n",
       "      <td>1</td>\n",
       "      <td>0</td>\n",
       "      <td>130</td>\n",
       "      <td>131</td>\n",
       "      <td>0</td>\n",
       "      <td>1</td>\n",
       "      <td>115</td>\n",
       "      <td>1</td>\n",
       "      <td>1.2</td>\n",
       "      <td>1</td>\n",
       "      <td>1</td>\n",
       "      <td>3</td>\n",
       "      <td>0</td>\n",
       "      <td>False</td>\n",
       "      <td>142</td>\n",
       "    </tr>\n",
       "    <tr>\n",
       "      <th>302</th>\n",
       "      <td>57</td>\n",
       "      <td>0</td>\n",
       "      <td>1</td>\n",
       "      <td>130</td>\n",
       "      <td>236</td>\n",
       "      <td>0</td>\n",
       "      <td>0</td>\n",
       "      <td>174</td>\n",
       "      <td>0</td>\n",
       "      <td>0.0</td>\n",
       "      <td>1</td>\n",
       "      <td>1</td>\n",
       "      <td>2</td>\n",
       "      <td>0</td>\n",
       "      <td>False</td>\n",
       "      <td>144</td>\n",
       "    </tr>\n",
       "  </tbody>\n",
       "</table>\n",
       "<p>303 rows × 16 columns</p>\n",
       "</div>"
      ],
      "text/plain": [
       "     age  sex  cp  trestbps  chol  fbs  restecg  thalach  exang  oldpeak  \\\n",
       "0     63    1   3       145   233    1        0      150      0      2.3   \n",
       "1     37    1   2       130   250    0        1      187      0      3.5   \n",
       "2     41    0   1       130   204    0        0      172      0      1.4   \n",
       "3     56    1   1       120   236    0        1      178      0      0.8   \n",
       "4     57    0   0       120   354    0        1      163      1      0.6   \n",
       "..   ...  ...  ..       ...   ...  ...      ...      ...    ...      ...   \n",
       "298   57    0   0       140   241    0        1      123      1      0.2   \n",
       "299   45    1   3       110   264    0        1      132      0      1.2   \n",
       "300   68    1   0       144   193    1        1      141      0      3.4   \n",
       "301   57    1   0       130   131    0        1      115      1      1.2   \n",
       "302   57    0   1       130   236    0        0      174      0      0.0   \n",
       "\n",
       "     slope  ca  thal  target    old  trestbps_mean  \n",
       "0        0   0     1       1   True            142  \n",
       "1        0   0     2       1  False            129  \n",
       "2        2   0     2       1  False            137  \n",
       "3        2   0     2       1  False            142  \n",
       "4        2   0     2       1  False            144  \n",
       "..     ...  ..   ...     ...    ...            ...  \n",
       "298      1   0     3       0  False            144  \n",
       "299      1   0     3       0  False            135  \n",
       "300      1   2     3       0   True            142  \n",
       "301      1   1     3       0  False            142  \n",
       "302      1   1     2       0  False            144  \n",
       "\n",
       "[303 rows x 16 columns]"
      ]
     },
     "execution_count": 29,
     "metadata": {},
     "output_type": "execute_result"
    }
   ],
   "source": [
    "data"
   ]
  },
  {
   "cell_type": "code",
   "execution_count": 30,
   "metadata": {},
   "outputs": [],
   "source": [
    "import category_encoders as ce\n",
    "encoder = ce.OneHotEncoder(cols=['cp', 'restecg', 'slope', 'ca', 'thal']) \n",
    "encoded = pd.DataFrame(encoder.fit_transform(data))#[['cp', 'restecg', 'slope', 'ca', 'thal']]))\n",
    "data.drop(columns=['cp', 'restecg', 'slope', 'ca', 'thal'], inplace=True) \n",
    "#pd.concat([data, encoded], axis=1)\n",
    "data = encoded"
   ]
  },
  {
   "cell_type": "code",
   "execution_count": 31,
   "metadata": {},
   "outputs": [
    {
     "data": {
      "text/plain": [
       "51.83075098793003"
      ]
     },
     "execution_count": 31,
     "metadata": {},
     "output_type": "execute_result"
    }
   ],
   "source": [
    "data['chol'].std()"
   ]
  },
  {
   "cell_type": "code",
   "execution_count": 32,
   "metadata": {},
   "outputs": [
    {
     "data": {
      "application/vnd.plotly.v1+json": {
       "config": {
        "plotlyServerURL": "https://plot.ly"
       },
       "data": [
        {
         "alignmentgroup": "True",
         "hovertemplate": "variable=%{x}<br>value=%{y}<extra></extra>",
         "legendgroup": "",
         "marker": {
          "color": "#636efa"
         },
         "name": "",
         "notched": false,
         "offsetgroup": "",
         "orientation": "v",
         "showlegend": false,
         "type": "box",
         "x": [
          "chol",
          "chol",
          "chol",
          "chol",
          "chol",
          "chol",
          "chol",
          "chol",
          "chol",
          "chol",
          "chol",
          "chol",
          "chol",
          "chol",
          "chol",
          "chol",
          "chol",
          "chol",
          "chol",
          "chol",
          "chol",
          "chol",
          "chol",
          "chol",
          "chol",
          "chol",
          "chol",
          "chol",
          "chol",
          "chol",
          "chol",
          "chol",
          "chol",
          "chol",
          "chol",
          "chol",
          "chol",
          "chol",
          "chol",
          "chol",
          "chol",
          "chol",
          "chol",
          "chol",
          "chol",
          "chol",
          "chol",
          "chol",
          "chol",
          "chol",
          "chol",
          "chol",
          "chol",
          "chol",
          "chol",
          "chol",
          "chol",
          "chol",
          "chol",
          "chol",
          "chol",
          "chol",
          "chol",
          "chol",
          "chol",
          "chol",
          "chol",
          "chol",
          "chol",
          "chol",
          "chol",
          "chol",
          "chol",
          "chol",
          "chol",
          "chol",
          "chol",
          "chol",
          "chol",
          "chol",
          "chol",
          "chol",
          "chol",
          "chol",
          "chol",
          "chol",
          "chol",
          "chol",
          "chol",
          "chol",
          "chol",
          "chol",
          "chol",
          "chol",
          "chol",
          "chol",
          "chol",
          "chol",
          "chol",
          "chol",
          "chol",
          "chol",
          "chol",
          "chol",
          "chol",
          "chol",
          "chol",
          "chol",
          "chol",
          "chol",
          "chol",
          "chol",
          "chol",
          "chol",
          "chol",
          "chol",
          "chol",
          "chol",
          "chol",
          "chol",
          "chol",
          "chol",
          "chol",
          "chol",
          "chol",
          "chol",
          "chol",
          "chol",
          "chol",
          "chol",
          "chol",
          "chol",
          "chol",
          "chol",
          "chol",
          "chol",
          "chol",
          "chol",
          "chol",
          "chol",
          "chol",
          "chol",
          "chol",
          "chol",
          "chol",
          "chol",
          "chol",
          "chol",
          "chol",
          "chol",
          "chol",
          "chol",
          "chol",
          "chol",
          "chol",
          "chol",
          "chol",
          "chol",
          "chol",
          "chol",
          "chol",
          "chol",
          "chol",
          "chol",
          "chol",
          "chol",
          "chol",
          "chol",
          "chol",
          "chol",
          "chol",
          "chol",
          "chol",
          "chol",
          "chol",
          "chol",
          "chol",
          "chol",
          "chol",
          "chol",
          "chol",
          "chol",
          "chol",
          "chol",
          "chol",
          "chol",
          "chol",
          "chol",
          "chol",
          "chol",
          "chol",
          "chol",
          "chol",
          "chol",
          "chol",
          "chol",
          "chol",
          "chol",
          "chol",
          "chol",
          "chol",
          "chol",
          "chol",
          "chol",
          "chol",
          "chol",
          "chol",
          "chol",
          "chol",
          "chol",
          "chol",
          "chol",
          "chol",
          "chol",
          "chol",
          "chol",
          "chol",
          "chol",
          "chol",
          "chol",
          "chol",
          "chol",
          "chol",
          "chol",
          "chol",
          "chol",
          "chol",
          "chol",
          "chol",
          "chol",
          "chol",
          "chol",
          "chol",
          "chol",
          "chol",
          "chol",
          "chol",
          "chol",
          "chol",
          "chol",
          "chol",
          "chol",
          "chol",
          "chol",
          "chol",
          "chol",
          "chol",
          "chol",
          "chol",
          "chol",
          "chol",
          "chol",
          "chol",
          "chol",
          "chol",
          "chol",
          "chol",
          "chol",
          "chol",
          "chol",
          "chol",
          "chol",
          "chol",
          "chol",
          "chol",
          "chol",
          "chol",
          "chol",
          "chol",
          "chol",
          "chol",
          "chol",
          "chol",
          "chol",
          "chol",
          "chol",
          "chol",
          "chol",
          "chol",
          "chol",
          "chol",
          "chol",
          "chol",
          "chol",
          "chol",
          "chol",
          "chol",
          "chol",
          "chol",
          "chol",
          "chol",
          "chol",
          "chol",
          "chol",
          "chol",
          "chol",
          "chol",
          "chol",
          "chol",
          "chol",
          "chol",
          "chol",
          "chol"
         ],
         "x0": " ",
         "xaxis": "x",
         "y": [
          233,
          250,
          204,
          236,
          354,
          192,
          294,
          263,
          199,
          168,
          239,
          275,
          266,
          211,
          283,
          219,
          340,
          226,
          247,
          239,
          234,
          233,
          226,
          243,
          199,
          302,
          212,
          175,
          417,
          197,
          198,
          177,
          219,
          273,
          213,
          177,
          304,
          232,
          269,
          360,
          308,
          245,
          208,
          264,
          321,
          325,
          235,
          257,
          216,
          234,
          256,
          302,
          231,
          141,
          252,
          201,
          222,
          260,
          182,
          303,
          265,
          309,
          186,
          203,
          211,
          183,
          222,
          234,
          220,
          209,
          258,
          227,
          204,
          261,
          213,
          250,
          245,
          221,
          205,
          240,
          250,
          308,
          318,
          298,
          265,
          564,
          277,
          197,
          214,
          248,
          255,
          207,
          223,
          288,
          160,
          226,
          394,
          233,
          315,
          246,
          244,
          270,
          195,
          240,
          196,
          211,
          234,
          236,
          244,
          254,
          325,
          126,
          313,
          211,
          262,
          215,
          214,
          193,
          204,
          243,
          303,
          271,
          268,
          267,
          199,
          210,
          204,
          277,
          196,
          269,
          201,
          271,
          295,
          235,
          306,
          269,
          178,
          208,
          201,
          263,
          295,
          303,
          209,
          223,
          197,
          245,
          242,
          240,
          226,
          180,
          228,
          149,
          227,
          278,
          220,
          197,
          253,
          192,
          220,
          221,
          240,
          342,
          157,
          175,
          175,
          286,
          229,
          268,
          254,
          203,
          256,
          229,
          284,
          224,
          206,
          167,
          230,
          335,
          177,
          276,
          353,
          225,
          330,
          230,
          243,
          290,
          253,
          266,
          233,
          172,
          305,
          216,
          188,
          282,
          185,
          326,
          231,
          254,
          267,
          248,
          197,
          258,
          270,
          274,
          164,
          255,
          239,
          258,
          188,
          177,
          229,
          260,
          219,
          307,
          249,
          341,
          263,
          330,
          254,
          256,
          407,
          217,
          282,
          288,
          239,
          174,
          281,
          198,
          288,
          309,
          243,
          289,
          289,
          246,
          322,
          299,
          300,
          293,
          304,
          282,
          269,
          249,
          212,
          274,
          184,
          274,
          409,
          246,
          283,
          254,
          298,
          247,
          294,
          299,
          273,
          309,
          259,
          200,
          244,
          231,
          228,
          230,
          282,
          269,
          206,
          212,
          327,
          149,
          286,
          283,
          249,
          234,
          237,
          234,
          275,
          212,
          218,
          261,
          319,
          166,
          315,
          204,
          218,
          223,
          207,
          311,
          204,
          232,
          335,
          205,
          203,
          318,
          225,
          212,
          169,
          187,
          197,
          176,
          241,
          264,
          193,
          131,
          236
         ],
         "y0": " ",
         "yaxis": "y"
        }
       ],
       "layout": {
        "boxmode": "group",
        "legend": {
         "tracegroupgap": 0
        },
        "margin": {
         "t": 60
        },
        "template": {
         "data": {
          "bar": [
           {
            "error_x": {
             "color": "#2a3f5f"
            },
            "error_y": {
             "color": "#2a3f5f"
            },
            "marker": {
             "line": {
              "color": "#E5ECF6",
              "width": 0.5
             },
             "pattern": {
              "fillmode": "overlay",
              "size": 10,
              "solidity": 0.2
             }
            },
            "type": "bar"
           }
          ],
          "barpolar": [
           {
            "marker": {
             "line": {
              "color": "#E5ECF6",
              "width": 0.5
             },
             "pattern": {
              "fillmode": "overlay",
              "size": 10,
              "solidity": 0.2
             }
            },
            "type": "barpolar"
           }
          ],
          "carpet": [
           {
            "aaxis": {
             "endlinecolor": "#2a3f5f",
             "gridcolor": "white",
             "linecolor": "white",
             "minorgridcolor": "white",
             "startlinecolor": "#2a3f5f"
            },
            "baxis": {
             "endlinecolor": "#2a3f5f",
             "gridcolor": "white",
             "linecolor": "white",
             "minorgridcolor": "white",
             "startlinecolor": "#2a3f5f"
            },
            "type": "carpet"
           }
          ],
          "choropleth": [
           {
            "colorbar": {
             "outlinewidth": 0,
             "ticks": ""
            },
            "type": "choropleth"
           }
          ],
          "contour": [
           {
            "colorbar": {
             "outlinewidth": 0,
             "ticks": ""
            },
            "colorscale": [
             [
              0,
              "#0d0887"
             ],
             [
              0.1111111111111111,
              "#46039f"
             ],
             [
              0.2222222222222222,
              "#7201a8"
             ],
             [
              0.3333333333333333,
              "#9c179e"
             ],
             [
              0.4444444444444444,
              "#bd3786"
             ],
             [
              0.5555555555555556,
              "#d8576b"
             ],
             [
              0.6666666666666666,
              "#ed7953"
             ],
             [
              0.7777777777777778,
              "#fb9f3a"
             ],
             [
              0.8888888888888888,
              "#fdca26"
             ],
             [
              1,
              "#f0f921"
             ]
            ],
            "type": "contour"
           }
          ],
          "contourcarpet": [
           {
            "colorbar": {
             "outlinewidth": 0,
             "ticks": ""
            },
            "type": "contourcarpet"
           }
          ],
          "heatmap": [
           {
            "colorbar": {
             "outlinewidth": 0,
             "ticks": ""
            },
            "colorscale": [
             [
              0,
              "#0d0887"
             ],
             [
              0.1111111111111111,
              "#46039f"
             ],
             [
              0.2222222222222222,
              "#7201a8"
             ],
             [
              0.3333333333333333,
              "#9c179e"
             ],
             [
              0.4444444444444444,
              "#bd3786"
             ],
             [
              0.5555555555555556,
              "#d8576b"
             ],
             [
              0.6666666666666666,
              "#ed7953"
             ],
             [
              0.7777777777777778,
              "#fb9f3a"
             ],
             [
              0.8888888888888888,
              "#fdca26"
             ],
             [
              1,
              "#f0f921"
             ]
            ],
            "type": "heatmap"
           }
          ],
          "heatmapgl": [
           {
            "colorbar": {
             "outlinewidth": 0,
             "ticks": ""
            },
            "colorscale": [
             [
              0,
              "#0d0887"
             ],
             [
              0.1111111111111111,
              "#46039f"
             ],
             [
              0.2222222222222222,
              "#7201a8"
             ],
             [
              0.3333333333333333,
              "#9c179e"
             ],
             [
              0.4444444444444444,
              "#bd3786"
             ],
             [
              0.5555555555555556,
              "#d8576b"
             ],
             [
              0.6666666666666666,
              "#ed7953"
             ],
             [
              0.7777777777777778,
              "#fb9f3a"
             ],
             [
              0.8888888888888888,
              "#fdca26"
             ],
             [
              1,
              "#f0f921"
             ]
            ],
            "type": "heatmapgl"
           }
          ],
          "histogram": [
           {
            "marker": {
             "pattern": {
              "fillmode": "overlay",
              "size": 10,
              "solidity": 0.2
             }
            },
            "type": "histogram"
           }
          ],
          "histogram2d": [
           {
            "colorbar": {
             "outlinewidth": 0,
             "ticks": ""
            },
            "colorscale": [
             [
              0,
              "#0d0887"
             ],
             [
              0.1111111111111111,
              "#46039f"
             ],
             [
              0.2222222222222222,
              "#7201a8"
             ],
             [
              0.3333333333333333,
              "#9c179e"
             ],
             [
              0.4444444444444444,
              "#bd3786"
             ],
             [
              0.5555555555555556,
              "#d8576b"
             ],
             [
              0.6666666666666666,
              "#ed7953"
             ],
             [
              0.7777777777777778,
              "#fb9f3a"
             ],
             [
              0.8888888888888888,
              "#fdca26"
             ],
             [
              1,
              "#f0f921"
             ]
            ],
            "type": "histogram2d"
           }
          ],
          "histogram2dcontour": [
           {
            "colorbar": {
             "outlinewidth": 0,
             "ticks": ""
            },
            "colorscale": [
             [
              0,
              "#0d0887"
             ],
             [
              0.1111111111111111,
              "#46039f"
             ],
             [
              0.2222222222222222,
              "#7201a8"
             ],
             [
              0.3333333333333333,
              "#9c179e"
             ],
             [
              0.4444444444444444,
              "#bd3786"
             ],
             [
              0.5555555555555556,
              "#d8576b"
             ],
             [
              0.6666666666666666,
              "#ed7953"
             ],
             [
              0.7777777777777778,
              "#fb9f3a"
             ],
             [
              0.8888888888888888,
              "#fdca26"
             ],
             [
              1,
              "#f0f921"
             ]
            ],
            "type": "histogram2dcontour"
           }
          ],
          "mesh3d": [
           {
            "colorbar": {
             "outlinewidth": 0,
             "ticks": ""
            },
            "type": "mesh3d"
           }
          ],
          "parcoords": [
           {
            "line": {
             "colorbar": {
              "outlinewidth": 0,
              "ticks": ""
             }
            },
            "type": "parcoords"
           }
          ],
          "pie": [
           {
            "automargin": true,
            "type": "pie"
           }
          ],
          "scatter": [
           {
            "fillpattern": {
             "fillmode": "overlay",
             "size": 10,
             "solidity": 0.2
            },
            "type": "scatter"
           }
          ],
          "scatter3d": [
           {
            "line": {
             "colorbar": {
              "outlinewidth": 0,
              "ticks": ""
             }
            },
            "marker": {
             "colorbar": {
              "outlinewidth": 0,
              "ticks": ""
             }
            },
            "type": "scatter3d"
           }
          ],
          "scattercarpet": [
           {
            "marker": {
             "colorbar": {
              "outlinewidth": 0,
              "ticks": ""
             }
            },
            "type": "scattercarpet"
           }
          ],
          "scattergeo": [
           {
            "marker": {
             "colorbar": {
              "outlinewidth": 0,
              "ticks": ""
             }
            },
            "type": "scattergeo"
           }
          ],
          "scattergl": [
           {
            "marker": {
             "colorbar": {
              "outlinewidth": 0,
              "ticks": ""
             }
            },
            "type": "scattergl"
           }
          ],
          "scattermapbox": [
           {
            "marker": {
             "colorbar": {
              "outlinewidth": 0,
              "ticks": ""
             }
            },
            "type": "scattermapbox"
           }
          ],
          "scatterpolar": [
           {
            "marker": {
             "colorbar": {
              "outlinewidth": 0,
              "ticks": ""
             }
            },
            "type": "scatterpolar"
           }
          ],
          "scatterpolargl": [
           {
            "marker": {
             "colorbar": {
              "outlinewidth": 0,
              "ticks": ""
             }
            },
            "type": "scatterpolargl"
           }
          ],
          "scatterternary": [
           {
            "marker": {
             "colorbar": {
              "outlinewidth": 0,
              "ticks": ""
             }
            },
            "type": "scatterternary"
           }
          ],
          "surface": [
           {
            "colorbar": {
             "outlinewidth": 0,
             "ticks": ""
            },
            "colorscale": [
             [
              0,
              "#0d0887"
             ],
             [
              0.1111111111111111,
              "#46039f"
             ],
             [
              0.2222222222222222,
              "#7201a8"
             ],
             [
              0.3333333333333333,
              "#9c179e"
             ],
             [
              0.4444444444444444,
              "#bd3786"
             ],
             [
              0.5555555555555556,
              "#d8576b"
             ],
             [
              0.6666666666666666,
              "#ed7953"
             ],
             [
              0.7777777777777778,
              "#fb9f3a"
             ],
             [
              0.8888888888888888,
              "#fdca26"
             ],
             [
              1,
              "#f0f921"
             ]
            ],
            "type": "surface"
           }
          ],
          "table": [
           {
            "cells": {
             "fill": {
              "color": "#EBF0F8"
             },
             "line": {
              "color": "white"
             }
            },
            "header": {
             "fill": {
              "color": "#C8D4E3"
             },
             "line": {
              "color": "white"
             }
            },
            "type": "table"
           }
          ]
         },
         "layout": {
          "annotationdefaults": {
           "arrowcolor": "#2a3f5f",
           "arrowhead": 0,
           "arrowwidth": 1
          },
          "autotypenumbers": "strict",
          "coloraxis": {
           "colorbar": {
            "outlinewidth": 0,
            "ticks": ""
           }
          },
          "colorscale": {
           "diverging": [
            [
             0,
             "#8e0152"
            ],
            [
             0.1,
             "#c51b7d"
            ],
            [
             0.2,
             "#de77ae"
            ],
            [
             0.3,
             "#f1b6da"
            ],
            [
             0.4,
             "#fde0ef"
            ],
            [
             0.5,
             "#f7f7f7"
            ],
            [
             0.6,
             "#e6f5d0"
            ],
            [
             0.7,
             "#b8e186"
            ],
            [
             0.8,
             "#7fbc41"
            ],
            [
             0.9,
             "#4d9221"
            ],
            [
             1,
             "#276419"
            ]
           ],
           "sequential": [
            [
             0,
             "#0d0887"
            ],
            [
             0.1111111111111111,
             "#46039f"
            ],
            [
             0.2222222222222222,
             "#7201a8"
            ],
            [
             0.3333333333333333,
             "#9c179e"
            ],
            [
             0.4444444444444444,
             "#bd3786"
            ],
            [
             0.5555555555555556,
             "#d8576b"
            ],
            [
             0.6666666666666666,
             "#ed7953"
            ],
            [
             0.7777777777777778,
             "#fb9f3a"
            ],
            [
             0.8888888888888888,
             "#fdca26"
            ],
            [
             1,
             "#f0f921"
            ]
           ],
           "sequentialminus": [
            [
             0,
             "#0d0887"
            ],
            [
             0.1111111111111111,
             "#46039f"
            ],
            [
             0.2222222222222222,
             "#7201a8"
            ],
            [
             0.3333333333333333,
             "#9c179e"
            ],
            [
             0.4444444444444444,
             "#bd3786"
            ],
            [
             0.5555555555555556,
             "#d8576b"
            ],
            [
             0.6666666666666666,
             "#ed7953"
            ],
            [
             0.7777777777777778,
             "#fb9f3a"
            ],
            [
             0.8888888888888888,
             "#fdca26"
            ],
            [
             1,
             "#f0f921"
            ]
           ]
          },
          "colorway": [
           "#636efa",
           "#EF553B",
           "#00cc96",
           "#ab63fa",
           "#FFA15A",
           "#19d3f3",
           "#FF6692",
           "#B6E880",
           "#FF97FF",
           "#FECB52"
          ],
          "font": {
           "color": "#2a3f5f"
          },
          "geo": {
           "bgcolor": "white",
           "lakecolor": "white",
           "landcolor": "#E5ECF6",
           "showlakes": true,
           "showland": true,
           "subunitcolor": "white"
          },
          "hoverlabel": {
           "align": "left"
          },
          "hovermode": "closest",
          "mapbox": {
           "style": "light"
          },
          "paper_bgcolor": "white",
          "plot_bgcolor": "#E5ECF6",
          "polar": {
           "angularaxis": {
            "gridcolor": "white",
            "linecolor": "white",
            "ticks": ""
           },
           "bgcolor": "#E5ECF6",
           "radialaxis": {
            "gridcolor": "white",
            "linecolor": "white",
            "ticks": ""
           }
          },
          "scene": {
           "xaxis": {
            "backgroundcolor": "#E5ECF6",
            "gridcolor": "white",
            "gridwidth": 2,
            "linecolor": "white",
            "showbackground": true,
            "ticks": "",
            "zerolinecolor": "white"
           },
           "yaxis": {
            "backgroundcolor": "#E5ECF6",
            "gridcolor": "white",
            "gridwidth": 2,
            "linecolor": "white",
            "showbackground": true,
            "ticks": "",
            "zerolinecolor": "white"
           },
           "zaxis": {
            "backgroundcolor": "#E5ECF6",
            "gridcolor": "white",
            "gridwidth": 2,
            "linecolor": "white",
            "showbackground": true,
            "ticks": "",
            "zerolinecolor": "white"
           }
          },
          "shapedefaults": {
           "line": {
            "color": "#2a3f5f"
           }
          },
          "ternary": {
           "aaxis": {
            "gridcolor": "white",
            "linecolor": "white",
            "ticks": ""
           },
           "baxis": {
            "gridcolor": "white",
            "linecolor": "white",
            "ticks": ""
           },
           "bgcolor": "#E5ECF6",
           "caxis": {
            "gridcolor": "white",
            "linecolor": "white",
            "ticks": ""
           }
          },
          "title": {
           "x": 0.05
          },
          "xaxis": {
           "automargin": true,
           "gridcolor": "white",
           "linecolor": "white",
           "ticks": "",
           "title": {
            "standoff": 15
           },
           "zerolinecolor": "white",
           "zerolinewidth": 2
          },
          "yaxis": {
           "automargin": true,
           "gridcolor": "white",
           "linecolor": "white",
           "ticks": "",
           "title": {
            "standoff": 15
           },
           "zerolinecolor": "white",
           "zerolinewidth": 2
          }
         }
        },
        "xaxis": {
         "anchor": "y",
         "domain": [
          0,
          1
         ],
         "title": {
          "text": "variable"
         }
        },
        "yaxis": {
         "anchor": "x",
         "domain": [
          0,
          1
         ],
         "title": {
          "text": "value"
         }
        }
       }
      }
     },
     "metadata": {},
     "output_type": "display_data"
    }
   ],
   "source": [
    "import plotly.express as px\n",
    "\n",
    "px.box(data['chol'])"
   ]
  },
  {
   "cell_type": "code",
   "execution_count": 33,
   "metadata": {},
   "outputs": [],
   "source": [
    "r_scaler = preprocessing.RobustScaler()\n",
    "\n",
    "for col in ['age', 'trestbps', 'chol', 'thalach', 'oldpeak', 'trestbps_mean']:\n",
    "    normalized = r_scaler.fit_transform(data[[col]])\n",
    "    data[col] = normalized"
   ]
  },
  {
   "cell_type": "code",
   "execution_count": 34,
   "metadata": {},
   "outputs": [
    {
     "data": {
      "text/plain": [
       "0.8162322990225203"
      ]
     },
     "execution_count": 34,
     "metadata": {},
     "output_type": "execute_result"
    }
   ],
   "source": [
    "data['chol'].std()"
   ]
  },
  {
   "cell_type": "code",
   "execution_count": 38,
   "metadata": {},
   "outputs": [
    {
     "data": {
      "application/vnd.plotly.v1+json": {
       "config": {
        "plotlyServerURL": "https://plot.ly"
       },
       "data": [
        {
         "coloraxis": "coloraxis",
         "hovertemplate": "x: %{x}<br>y: %{y}<br>color: %{z}<extra></extra>",
         "name": "0",
         "type": "heatmap",
         "x": [
          "age",
          "sex",
          "cp_1",
          "cp_2",
          "cp_3",
          "cp_4",
          "trestbps",
          "chol",
          "fbs",
          "restecg_1",
          "restecg_2",
          "restecg_3",
          "thalach",
          "exang",
          "oldpeak",
          "slope_1",
          "slope_2",
          "slope_3",
          "ca_1",
          "ca_2",
          "ca_3",
          "ca_4",
          "ca_5",
          "thal_1",
          "thal_2",
          "thal_3",
          "thal_4",
          "target",
          "old",
          "trestbps_mean"
         ],
         "xaxis": "x",
         "y": [
          "age",
          "sex",
          "cp_1",
          "cp_2",
          "cp_3",
          "cp_4",
          "trestbps",
          "chol",
          "fbs",
          "restecg_1",
          "restecg_2",
          "restecg_3",
          "thalach",
          "exang",
          "oldpeak",
          "slope_1",
          "slope_2",
          "slope_3",
          "ca_1",
          "ca_2",
          "ca_3",
          "ca_4",
          "ca_5",
          "thal_1",
          "thal_2",
          "thal_3",
          "thal_4",
          "target",
          "old",
          "trestbps_mean"
         ],
         "yaxis": "y",
         "z": [
          [
           1,
           -0.09844660247479409,
           0.04751617176103525,
           -0.05943204583797446,
           -0.14739877239280366,
           0.1382526894354682,
           0.2793509065612882,
           0.21367795655956176,
           0.12130764809337476,
           0.14139844133342044,
           -0.1606535988619075,
           0.08462123248001047,
           -0.3985219381210674,
           0.09680082645526772,
           0.21001256735867357,
           0.030536426142705037,
           -0.19257987778589106,
           0.17720113688991757,
           -0.35084380842531887,
           0.22649100410443668,
           0.17928418886419015,
           0.1622430237993548,
           -0.12237804840010146,
           0.0637581178478099,
           -0.13589099187576098,
           0.11075169704259126,
           -0.016778504424464047,
           -0.2254387158748372,
           0.7180284360485248,
           0.7630547732487207
          ],
          [
           -0.09844660247479409,
           1,
           0.0880431587551394,
           -0.11658801296577492,
           -0.041248835867763234,
           0.08962143381952921,
           -0.056768823969643306,
           -0.197912174141107,
           0.04503178919356035,
           0.03653867940743163,
           -0.011940131877776388,
           -0.10768939183440454,
           -0.044019907769574755,
           0.14166381099150557,
           0.09609287706773886,
           0.04618306319527963,
           -0.014356333120340847,
           -0.009157058782136714,
           -0.1228542539021882,
           -0.020571097588240588,
           0.09667267955263124,
           0.06675814382522399,
           0.08821192791916091,
           0.1411352160932396,
           -0.3763649342002982,
           0.32155934175265033,
           -0.03209252911742659,
           -0.28093657550176676,
           -0.14494095160444137,
           -0.47258340300160256
          ],
          [
           0.04751617176103525,
           0.0880431587551394,
           1,
           -0.18189369824245535,
           -0.12741179785940648,
           -0.27095235479956353,
           0.15134349923259027,
           -0.050589086022781116,
           0.05551140171662981,
           0.07084990156886063,
           -0.0632518363323037,
           -0.033149677206589824,
           0.07908154563554257,
           -0.09338432696006016,
           0.08695915471694199,
           0.06898147300518621,
           -0.04442103991025996,
           0.009321325843231197,
           0.06852245153408737,
           0.0419719388369346,
           -0.05870965461891002,
           -0.07619152784063035,
           -0.03712459909684723,
           0.033404087488107775,
           0.009998344786434804,
           -0.022553758442712336,
           -0.023362356799666677,
           0.086956874646376,
           0.05686017638616576,
           -0.01243377213224537
          ],
          [
           -0.05943204583797446,
           -0.11658801296577492,
           -0.18189369824245535,
           1,
           -0.28213534223751874,
           -0.5999855322329777,
           -0.045107125516158794,
           -0.03791823920644923,
           0.0836788800484175,
           -0.09061108423357672,
           0.0927383817360744,
           -0.009492058848250004,
           0.16547534840832498,
           -0.27102836153750115,
           -0.13244367601403403,
           -0.02957562224760012,
           0.12027591414855283,
           -0.10532011960970122,
           0.09972295023465261,
           -0.19627388866751275,
           0.023753267765344057,
           -0.021816636750163494,
           0.08957745213548947,
           -0.0977746001549083,
           0.2101304483188475,
           -0.17371696968193548,
           0.03835349651764002,
           0.31674215819553986,
           -0.027967015261175156,
           0.0007003203424032109
          ],
          [
           -0.14739877239280366,
           -0.041248835867763234,
           -0.12741179785940648,
           -0.28213534223751874,
           1,
           -0.4202742375908961,
           -0.08185062586476767,
           -0.012749604429445616,
           -0.06064932426457903,
           -0.09352970111168436,
           0.10522641128950037,
           -0.05141846921644201,
           0.24831716786725502,
           -0.2338629120938879,
           -0.27751293923915427,
           -0.05129836293175091,
           0.22392086686664478,
           -0.19799439877695368,
           0.1461983064375057,
           -0.0878038696715742,
           -0.05904588382692169,
           -0.0823719409988613,
           0.012207801883402881,
           -0.03649584177626145,
           0.20735417204704712,
           -0.18822500549536417,
           -0.03623735508617256,
           0.24587909539147892,
           -0.1222449389277675,
           -0.10596489957702811
          ],
          [
           0.1382526894354682,
           0.08962143381952921,
           -0.27095235479956353,
           -0.5999855322329777,
           -0.4202742375908961,
           1,
           0.02144715579577818,
           0.07068369106415608,
           -0.060190075411796405,
           0.11407498835616903,
           -0.12873117647746973,
           0.06442231113661118,
           -0.3765605017265263,
           0.46906073108013624,
           0.2802431140501153,
           0.028349912857656326,
           -0.2519347840552011,
           0.2377244937271778,
           -0.23543725726908568,
           0.22089750371578903,
           0.05352495411274431,
           0.12144281274290378,
           -0.07056284323131162,
           0.09802521965234798,
           -0.3499204996242363,
           0.3093573653109632,
           0.004580603131869504,
           -0.5160146415680592,
           0.08607604874178162,
           0.08475336870136146
          ],
          [
           0.2793509065612882,
           -0.056768823969643306,
           0.15134349923259027,
           -0.045107125516158794,
           -0.08185062586476767,
           0.02144715579577818,
           1,
           0.1231742065323906,
           0.17753054193445997,
           0.13324945177963837,
           -0.1465762141861619,
           0.05863508541897981,
           -0.0466977281479543,
           0.06761611953876387,
           0.19321647240953632,
           0.12238362201898899,
           -0.08747166845544026,
           0.02520740614059312,
           -0.055011087763949716,
           0.08838583202269648,
           -0.059485106760209495,
           0.08010882598252861,
           0.01905886479372462,
           0.07636869545832085,
           -0.14071189550995492,
           0.10957252263933243,
           -0.016870412519441855,
           -0.1449311284977515,
           0.18063117427095846,
           0.23610813169888922
          ],
          [
           0.21367795655956176,
           -0.197912174141107,
           -0.050589086022781116,
           -0.03791823920644923,
           -0.012749604429445616,
           0.07068369106415608,
           0.1231742065323906,
           1,
           0.013293602251671572,
           0.16656451572619407,
           -0.17439359348744152,
           0.03461491402577306,
           -0.0099398386426982,
           0.06702278257394266,
           0.053951919986993765,
           -0.04533989746366946,
           -0.02805378282208702,
           0.05117665862490038,
           -0.08059967881746366,
           0.059886634215883416,
           0.018775423127098376,
           0.09856800437589636,
           -0.09578508279136166,
           -0.09356021877160625,
           -0.004591379806890411,
           0.05962059107000796,
           -0.05712656535525773,
           -0.08523910513756895,
           0.15938798976064136,
           0.2844738357215069
          ],
          [
           0.12130764809337476,
           0.04503178919356035,
           0.05551140171662981,
           0.0836788800484175,
           -0.06064932426457903,
           -0.060190075411796405,
           0.17753054193445997,
           0.013293602251671572,
           1,
           0.07740451149704568,
           -0.06634406519347161,
           -0.04830485751502976,
           -0.00856710734348687,
           0.025665147202126176,
           0.005747223459644347,
           0.10528437716678957,
           -0.0202553951414159,
           -0.03335998907031575,
           -0.11254767047105296,
           0.12207959674895627,
           -0.014774198289694056,
           0.07586662951173492,
           0.01875363065970862,
           0.09135121428178339,
           -0.08677381172588149,
           0.030952774938668458,
           0.08056849439458823,
           -0.028045760272712952,
           0.02679029893805288,
           0.07105552053867023
          ],
          [
           0.14139844133342044,
           0.03653867940743163,
           0.07084990156886063,
           -0.09061108423357672,
           -0.09352970111168436,
           0.11407498835616903,
           0.13324945177963837,
           0.16656451572619407,
           0.07740451149704568,
           1,
           -0.9739343615465682,
           -0.1122769921845787,
           -0.07395280210073665,
           0.08405913551433437,
           0.1001408874252689,
           0.04711044172591487,
           -0.130890662591487,
           0.10701203597592678,
           -0.10562802762420695,
           0.05113112131300496,
           0.05574721496658157,
           0.08768722090474597,
           -0.07390428948653385,
           0.035403938303863965,
           -0.03362992709935813,
           0.01678652873412922,
           0.0024222741653751718,
           -0.15977519309753468,
           0.0702918108956574,
           0.0618199648143349
          ],
          [
           -0.1606535988619075,
           -0.011940131877776388,
           -0.0632518363323037,
           0.0927383817360744,
           0.10522641128950037,
           -0.12873117647746973,
           -0.1465762141861619,
           -0.17439359348744152,
           -0.06634406519347161,
           -0.9739343615465682,
           1,
           -0.11604534441596209,
           0.101512063554673,
           -0.09377635979490458,
           -0.13848646426356684,
           -0.06587441187766832,
           0.1556295839222187,
           -0.12221496246169859,
           0.10972765532388382,
           -0.04111071351636101,
           -0.058004907355482714,
           -0.10721430203940516,
           0.0772920868114289,
           -0.05667691012035807,
           0.03615392494536881,
           -0.009396359496116278,
           -0.00026902428557616355,
           0.17532180367281433,
           -0.06961612545612597,
           -0.08163379857532453
          ],
          [
           0.08462123248001047,
           -0.10768939183440454,
           -0.033149677206589824,
           -0.009492058848250004,
           -0.05141846921644201,
           0.06442231113661118,
           0.05863508541897981,
           0.03461491402577306,
           -0.04830485751502976,
           -0.1122769921845787,
           -0.11604534441596209,
           1,
           -0.12087036059734253,
           0.042728832239197476,
           0.16817209369380168,
           0.08228948104756556,
           -0.1086239610687142,
           0.06680393073977783,
           -0.01816093711472105,
           -0.043798905991910574,
           0.009996724163100632,
           0.08570991366243728,
           -0.01498205101807267,
           0.09325834574883973,
           -0.01112110845634911,
           -0.03234215479617477,
           -0.009428142794537209,
           -0.06841023951783205,
           -0.0028257921066410815,
           0.08691671220895449
          ],
          [
           -0.3985219381210674,
           -0.044019907769574755,
           0.07908154563554257,
           0.16547534840832498,
           0.24831716786725502,
           -0.3765605017265263,
           -0.0466977281479543,
           -0.0099398386426982,
           -0.00856710734348687,
           -0.07395280210073665,
           0.101512063554673,
           -0.12087036059734253,
           1,
           -0.37881209385148634,
           -0.34418694796671584,
           -0.0565901112611945,
           0.4480428090144398,
           -0.41962676844437263,
           0.2731357660813059,
           -0.056904848927325904,
           -0.19550155483912404,
           -0.17550643084824855,
           0.06091110424277781,
           -0.15974816056575197,
           0.2948010397646418,
           -0.21541710737203495,
           -0.05042854542369669,
           0.4217409338106747,
           -0.27189809881390303,
           -0.24719717948391745
          ],
          [
           0.09680082645526772,
           0.14166381099150557,
           -0.09338432696006016,
           -0.27102836153750115,
           -0.2338629120938879,
           0.46906073108013624,
           0.06761611953876387,
           0.06702278257394266,
           0.025665147202126176,
           0.08405913551433437,
           -0.09377635979490458,
           0.042728832239197476,
           -0.37881209385148634,
           1,
           0.28822280778276543,
           0.05925269706207399,
           -0.2876064912928914,
           0.2576865021334319,
           -0.18773386442392503,
           0.09739907433839716,
           0.15020579476096732,
           0.013187978062608472,
           -0.035000593887185766,
           0.06307302559879238,
           -0.32853930622494326,
           0.30022347990909,
           0.0301133015016747,
           -0.43675708335330315,
           0.01904286396310541,
           0.004428534829696961
          ],
          [
           0.21001256735867357,
           0.09609287706773886,
           0.08695915471694199,
           -0.13244367601403403,
           -0.27751293923915427,
           0.2802431140501153,
           0.19321647240953632,
           0.053951919986993765,
           0.005747223459644347,
           0.1001408874252689,
           -0.13848646426356684,
           0.16817209369380168,
           -0.34418694796671584,
           0.28822280778276543,
           1,
           0.3942529415207498,
           -0.5113563128066377,
           0.3109861559633352,
           -0.20480343212454377,
           0.2183191787520634,
           -0.011612738256914688,
           0.18929612390279957,
           -0.10499757510668335,
           0.10463455562087294,
           -0.33908560617714667,
           0.30214528872114543,
           -0.03794586340304506,
           -0.43069600168736866,
           0.1599969903576601,
           0.12540504579998465
          ],
          [
           0.030536426142705037,
           0.04618306319527963,
           0.06898147300518621,
           -0.02957562224760012,
           -0.05129836293175091,
           0.028349912857656326,
           0.12238362201898899,
           -0.04533989746366946,
           0.10528437716678957,
           0.04711044172591487,
           -0.06587441187766832,
           0.08228948104756556,
           -0.0565901112611945,
           0.05925269706207399,
           0.3942529415207498,
           1,
           -0.2562809512906672,
           -0.25290377319502333,
           0.07553722773998117,
           -0.024862929121571252,
           -0.07929803351305835,
           0.03212702617320634,
           -0.035347765349563014,
           0.09633888974655173,
           -0.09151156606371183,
           0.0504743828414924,
           -0.022244202665006468,
           -0.06355367152221429,
           0.015531927975815705,
           0.03662870196005772
          ],
          [
           -0.19257987778589106,
           -0.014356333120340847,
           -0.04442103991025996,
           0.12027591414855283,
           0.22392086686664478,
           -0.2519347840552011,
           -0.08747166845544026,
           -0.02805378282208702,
           -0.0202553951414159,
           -0.130890662591487,
           0.1556295839222187,
           -0.1086239610687142,
           0.4480428090144398,
           -0.2876064912928914,
           -0.5113563128066377,
           -0.2562809512906672,
           1,
           -0.8703650629236378,
           0.12032795115749774,
           -0.056086419322307936,
           -0.0396676580151413,
           -0.11647978288877484,
           0.03409595286530464,
           -0.1800606520856491,
           0.32163956628427615,
           -0.24223029291794815,
           0.005121512595355572,
           0.3940663689190677,
           -0.13592640951967572,
           -0.10521914026185755
          ],
          [
           0.17720113688991757,
           -0.009157058782136714,
           0.009321325843231197,
           -0.10532011960970122,
           -0.19799439877695368,
           0.2377244937271778,
           0.02520740614059312,
           0.05117665862490038,
           -0.03335998907031575,
           0.10701203597592678,
           -0.12221496246169859,
           0.06680393073977783,
           -0.41962676844437263,
           0.2576865021334319,
           0.3109861559633352,
           -0.25290377319502333,
           -0.8703650629236378,
           1,
           -0.15891884060649322,
           0.0688036935913175,
           0.08010018572001194,
           0.10022075922861513,
           -0.016120440291506274,
           0.13114927461645198,
           -0.27531755370507527,
           0.21674041856227538,
           0.006205428419730877,
           -0.36205329955882015,
           0.12813915581646507,
           0.086656513072232
          ],
          [
           -0.35084380842531887,
           -0.1228542539021882,
           0.06852245153408737,
           0.09972295023465261,
           0.1461983064375057,
           -0.23543725726908568,
           -0.055011087763949716,
           -0.08059967881746366,
           -0.11254767047105296,
           -0.10562802762420695,
           0.10972765532388382,
           -0.01816093711472105,
           0.2731357660813059,
           -0.18773386442392503,
           -0.20480343212454377,
           0.07553722773998117,
           0.12032795115749774,
           -0.15891884060649322,
           1,
           -0.4427748054055093,
           -0.6110577256836274,
           -0.31083922650621565,
           -0.15145754383289278,
           -0.06772576650449626,
           0.24332805899006069,
           -0.22745908942629064,
           0.06971363215204793,
           0.4655901164650853,
           -0.22260667754036323,
           -0.2206718317837224
          ],
          [
           0.22649100410443668,
           -0.020571097588240588,
           0.0419719388369346,
           -0.19627388866751275,
           -0.0878038696715742,
           0.22089750371578903,
           0.08838583202269648,
           0.059886634215883416,
           0.12207959674895627,
           0.05113112131300496,
           -0.04111071351636101,
           -0.043798905991910574,
           -0.056904848927325904,
           0.09739907433839716,
           0.2183191787520634,
           -0.024862929121571252,
           -0.056086419322307936,
           0.0688036935913175,
           -0.4427748054055093,
           1,
           -0.19789602053931965,
           -0.10066781478669795,
           -0.04905075894696629,
           0.07346162057178593,
           -0.13652156380112973,
           0.10902833806640934,
           -0.030867439910234266,
           -0.27399786843672735,
           0.16098452310922123,
           0.17518832740727966
          ],
          [
           0.17928418886419015,
           0.09667267955263124,
           -0.05870965461891002,
           0.023753267765344057,
           -0.05904588382692169,
           0.05352495411274431,
           -0.059485106760209495,
           0.018775423127098376,
           -0.014774198289694056,
           0.05574721496658157,
           -0.058004907355482714,
           0.009996724163100632,
           -0.19550155483912404,
           0.15020579476096732,
           -0.011612738256914688,
           -0.07929803351305835,
           -0.0396676580151413,
           0.08010018572001194,
           -0.6110577256836274,
           -0.19789602053931965,
           1,
           -0.13892806275814104,
           -0.06769320394763394,
           0.004714606504001786,
           -0.10678775706925261,
           0.11396184533982191,
           -0.04259905351197537,
           -0.23241223605510275,
           0.05590607735287654,
           0.1001022770895964
          ],
          [
           0.1622430237993548,
           0.06675814382522399,
           -0.07619152784063035,
           -0.021816636750163494,
           -0.0823719409988613,
           0.12144281274290378,
           0.08010882598252861,
           0.09856800437589636,
           0.07586662951173492,
           0.08768722090474597,
           -0.10721430203940516,
           0.08570991366243728,
           -0.17550643084824855,
           0.013187978062608472,
           0.18929612390279957,
           0.03212702617320634,
           -0.11647978288877484,
           0.10022075922861513,
           -0.31083922650621565,
           -0.10066781478669795,
           -0.13892806275814104,
           1,
           -0.034434886051509114,
           0.04565288303427309,
           -0.1323876245032847,
           0.11677432967279704,
           -0.021669731495081414,
           -0.21061526518093024,
           0.17516048768299514,
           0.09594758391267616
          ],
          [
           -0.12237804840010146,
           0.08821192791916091,
           -0.03712459909684723,
           0.08957745213548947,
           0.012207801883402881,
           -0.07056284323131162,
           0.01905886479372462,
           -0.09578508279136166,
           0.01875363065970862,
           -0.07390428948653385,
           0.0772920868114289,
           -0.01498205101807267,
           0.06091110424277781,
           -0.035000593887185766,
           -0.10499757510668335,
           -0.035347765349563014,
           0.03409595286530464,
           -0.016120440291506274,
           -0.15145754383289278,
           -0.04905075894696629,
           -0.06769320394763394,
           -0.034434886051509114,
           1,
           -0.03255297560004023,
           0.013571243083049791,
           0.003687879800029541,
           -0.010558655497418952,
           0.06644102373322479,
           -0.07692480546033421,
           -0.10937403789930498
          ],
          [
           0.0637581178478099,
           0.1411352160932396,
           0.033404087488107775,
           -0.0977746001549083,
           -0.03649584177626145,
           0.09802521965234798,
           0.07636869545832085,
           -0.09356021877160625,
           0.09135121428178339,
           0.035403938303863965,
           -0.05667691012035807,
           0.09325834574883973,
           -0.15974816056575197,
           0.06307302559879238,
           0.10463455562087294,
           0.09633888974655173,
           -0.1800606520856491,
           0.13114927461645198,
           -0.06772576650449626,
           0.07346162057178593,
           0.004714606504001786,
           0.04565288303427309,
           -0.03255297560004023,
           1,
           -0.27663529083197597,
           -0.19931972592023298,
           -0.02048545302469188,
           -0.10658897385508212,
           0.009760829151775376,
           -0.024554825946950156
          ],
          [
           -0.13589099187576098,
           -0.3763649342002982,
           0.009998344786434804,
           0.2101304483188475,
           0.20735417204704712,
           -0.3499204996242363,
           -0.14071189550995492,
           -0.004591379806890411,
           -0.08677381172588149,
           -0.03362992709935813,
           0.03615392494536881,
           -0.01112110845634911,
           0.2948010397646418,
           -0.32853930622494326,
           -0.33908560617714667,
           -0.09151156606371183,
           0.32163956628427615,
           -0.27531755370507527,
           0.24332805899006069,
           -0.13652156380112973,
           -0.10678775706925261,
           -0.1323876245032847,
           0.013571243083049791,
           -0.27663529083197597,
           1,
           -0.8730321138511452,
           -0.08972748820908173,
           0.5273335503160472,
           -0.004237083700959608,
           0.040887028692231486
          ],
          [
           0.11075169704259126,
           0.32155934175265033,
           -0.022553758442712336,
           -0.17371696968193548,
           -0.18822500549536417,
           0.3093573653109632,
           0.10957252263933243,
           0.05962059107000796,
           0.030952774938668458,
           0.01678652873412922,
           -0.009396359496116278,
           -0.03234215479617477,
           -0.21541710737203495,
           0.30022347990909,
           0.30214528872114543,
           0.0504743828414924,
           -0.24223029291794815,
           0.21674041856227538,
           -0.22745908942629064,
           0.10902833806640934,
           0.11396184533982191,
           0.11677432967279704,
           0.003687879800029541,
           -0.19931972592023298,
           -0.8730321138511452,
           1,
           -0.06464995230202879,
           -0.48611215300093824,
           0.007643711752364652,
           -0.032303969551264466
          ],
          [
           -0.016778504424464047,
           -0.03209252911742659,
           -0.023362356799666677,
           0.03835349651764002,
           -0.03623735508617256,
           0.004580603131869504,
           -0.016870412519441855,
           -0.05712656535525773,
           0.08056849439458823,
           0.0024222741653751718,
           -0.00026902428557616355,
           -0.009428142794537209,
           -0.05042854542369669,
           0.0301133015016747,
           -0.03794586340304506,
           -0.022244202665006468,
           0.005121512595355572,
           0.006205428419730877,
           0.06971363215204793,
           -0.030867439910234266,
           -0.04259905351197537,
           -0.021669731495081414,
           -0.010558655497418952,
           -0.02048545302469188,
           -0.08972748820908173,
           -0.06464995230202879,
           1,
           -0.007292627036773161,
           -0.04840846219567375,
           0.01460045158509142
          ],
          [
           -0.2254387158748372,
           -0.28093657550176676,
           0.086956874646376,
           0.31674215819553986,
           0.24587909539147892,
           -0.5160146415680592,
           -0.1449311284977515,
           -0.08523910513756895,
           -0.028045760272712952,
           -0.15977519309753468,
           0.17532180367281433,
           -0.06841023951783205,
           0.4217409338106747,
           -0.43675708335330315,
           -0.43069600168736866,
           -0.06355367152221429,
           0.3940663689190677,
           -0.36205329955882015,
           0.4655901164650853,
           -0.27399786843672735,
           -0.23241223605510275,
           -0.21061526518093024,
           0.06644102373322479,
           -0.10658897385508212,
           0.5273335503160472,
           -0.48611215300093824,
           -0.007292627036773161,
           1,
           -0.12105624637053936,
           -0.03082976406808102
          ],
          [
           0.7180284360485248,
           -0.14494095160444137,
           0.05686017638616576,
           -0.027967015261175156,
           -0.1222449389277675,
           0.08607604874178162,
           0.18063117427095846,
           0.15938798976064136,
           0.02679029893805288,
           0.0702918108956574,
           -0.06961612545612597,
           -0.0028257921066410815,
           -0.27189809881390303,
           0.01904286396310541,
           0.1599969903576601,
           0.015531927975815705,
           -0.13592640951967572,
           0.12813915581646507,
           -0.22260667754036323,
           0.16098452310922123,
           0.05590607735287654,
           0.17516048768299514,
           -0.07692480546033421,
           0.009760829151775376,
           -0.004237083700959608,
           0.007643711752364652,
           -0.04840846219567375,
           -0.12105624637053936,
           1,
           0.6115383657945407
          ],
          [
           0.7630547732487207,
           -0.47258340300160256,
           -0.01243377213224537,
           0.0007003203424032109,
           -0.10596489957702811,
           0.08475336870136146,
           0.23610813169888922,
           0.2844738357215069,
           0.07105552053867023,
           0.0618199648143349,
           -0.08163379857532453,
           0.08691671220895449,
           -0.24719717948391745,
           0.004428534829696961,
           0.12540504579998465,
           0.03662870196005772,
           -0.10521914026185755,
           0.086656513072232,
           -0.2206718317837224,
           0.17518832740727966,
           0.1001022770895964,
           0.09594758391267616,
           -0.10937403789930498,
           -0.024554825946950156,
           0.040887028692231486,
           -0.032303969551264466,
           0.01460045158509142,
           -0.03082976406808102,
           0.6115383657945407,
           1
          ]
         ]
        }
       ],
       "layout": {
        "coloraxis": {
         "colorscale": [
          [
           0,
           "#0d0887"
          ],
          [
           0.1111111111111111,
           "#46039f"
          ],
          [
           0.2222222222222222,
           "#7201a8"
          ],
          [
           0.3333333333333333,
           "#9c179e"
          ],
          [
           0.4444444444444444,
           "#bd3786"
          ],
          [
           0.5555555555555556,
           "#d8576b"
          ],
          [
           0.6666666666666666,
           "#ed7953"
          ],
          [
           0.7777777777777778,
           "#fb9f3a"
          ],
          [
           0.8888888888888888,
           "#fdca26"
          ],
          [
           1,
           "#f0f921"
          ]
         ]
        },
        "margin": {
         "t": 60
        },
        "template": {
         "data": {
          "bar": [
           {
            "error_x": {
             "color": "#2a3f5f"
            },
            "error_y": {
             "color": "#2a3f5f"
            },
            "marker": {
             "line": {
              "color": "#E5ECF6",
              "width": 0.5
             },
             "pattern": {
              "fillmode": "overlay",
              "size": 10,
              "solidity": 0.2
             }
            },
            "type": "bar"
           }
          ],
          "barpolar": [
           {
            "marker": {
             "line": {
              "color": "#E5ECF6",
              "width": 0.5
             },
             "pattern": {
              "fillmode": "overlay",
              "size": 10,
              "solidity": 0.2
             }
            },
            "type": "barpolar"
           }
          ],
          "carpet": [
           {
            "aaxis": {
             "endlinecolor": "#2a3f5f",
             "gridcolor": "white",
             "linecolor": "white",
             "minorgridcolor": "white",
             "startlinecolor": "#2a3f5f"
            },
            "baxis": {
             "endlinecolor": "#2a3f5f",
             "gridcolor": "white",
             "linecolor": "white",
             "minorgridcolor": "white",
             "startlinecolor": "#2a3f5f"
            },
            "type": "carpet"
           }
          ],
          "choropleth": [
           {
            "colorbar": {
             "outlinewidth": 0,
             "ticks": ""
            },
            "type": "choropleth"
           }
          ],
          "contour": [
           {
            "colorbar": {
             "outlinewidth": 0,
             "ticks": ""
            },
            "colorscale": [
             [
              0,
              "#0d0887"
             ],
             [
              0.1111111111111111,
              "#46039f"
             ],
             [
              0.2222222222222222,
              "#7201a8"
             ],
             [
              0.3333333333333333,
              "#9c179e"
             ],
             [
              0.4444444444444444,
              "#bd3786"
             ],
             [
              0.5555555555555556,
              "#d8576b"
             ],
             [
              0.6666666666666666,
              "#ed7953"
             ],
             [
              0.7777777777777778,
              "#fb9f3a"
             ],
             [
              0.8888888888888888,
              "#fdca26"
             ],
             [
              1,
              "#f0f921"
             ]
            ],
            "type": "contour"
           }
          ],
          "contourcarpet": [
           {
            "colorbar": {
             "outlinewidth": 0,
             "ticks": ""
            },
            "type": "contourcarpet"
           }
          ],
          "heatmap": [
           {
            "colorbar": {
             "outlinewidth": 0,
             "ticks": ""
            },
            "colorscale": [
             [
              0,
              "#0d0887"
             ],
             [
              0.1111111111111111,
              "#46039f"
             ],
             [
              0.2222222222222222,
              "#7201a8"
             ],
             [
              0.3333333333333333,
              "#9c179e"
             ],
             [
              0.4444444444444444,
              "#bd3786"
             ],
             [
              0.5555555555555556,
              "#d8576b"
             ],
             [
              0.6666666666666666,
              "#ed7953"
             ],
             [
              0.7777777777777778,
              "#fb9f3a"
             ],
             [
              0.8888888888888888,
              "#fdca26"
             ],
             [
              1,
              "#f0f921"
             ]
            ],
            "type": "heatmap"
           }
          ],
          "heatmapgl": [
           {
            "colorbar": {
             "outlinewidth": 0,
             "ticks": ""
            },
            "colorscale": [
             [
              0,
              "#0d0887"
             ],
             [
              0.1111111111111111,
              "#46039f"
             ],
             [
              0.2222222222222222,
              "#7201a8"
             ],
             [
              0.3333333333333333,
              "#9c179e"
             ],
             [
              0.4444444444444444,
              "#bd3786"
             ],
             [
              0.5555555555555556,
              "#d8576b"
             ],
             [
              0.6666666666666666,
              "#ed7953"
             ],
             [
              0.7777777777777778,
              "#fb9f3a"
             ],
             [
              0.8888888888888888,
              "#fdca26"
             ],
             [
              1,
              "#f0f921"
             ]
            ],
            "type": "heatmapgl"
           }
          ],
          "histogram": [
           {
            "marker": {
             "pattern": {
              "fillmode": "overlay",
              "size": 10,
              "solidity": 0.2
             }
            },
            "type": "histogram"
           }
          ],
          "histogram2d": [
           {
            "colorbar": {
             "outlinewidth": 0,
             "ticks": ""
            },
            "colorscale": [
             [
              0,
              "#0d0887"
             ],
             [
              0.1111111111111111,
              "#46039f"
             ],
             [
              0.2222222222222222,
              "#7201a8"
             ],
             [
              0.3333333333333333,
              "#9c179e"
             ],
             [
              0.4444444444444444,
              "#bd3786"
             ],
             [
              0.5555555555555556,
              "#d8576b"
             ],
             [
              0.6666666666666666,
              "#ed7953"
             ],
             [
              0.7777777777777778,
              "#fb9f3a"
             ],
             [
              0.8888888888888888,
              "#fdca26"
             ],
             [
              1,
              "#f0f921"
             ]
            ],
            "type": "histogram2d"
           }
          ],
          "histogram2dcontour": [
           {
            "colorbar": {
             "outlinewidth": 0,
             "ticks": ""
            },
            "colorscale": [
             [
              0,
              "#0d0887"
             ],
             [
              0.1111111111111111,
              "#46039f"
             ],
             [
              0.2222222222222222,
              "#7201a8"
             ],
             [
              0.3333333333333333,
              "#9c179e"
             ],
             [
              0.4444444444444444,
              "#bd3786"
             ],
             [
              0.5555555555555556,
              "#d8576b"
             ],
             [
              0.6666666666666666,
              "#ed7953"
             ],
             [
              0.7777777777777778,
              "#fb9f3a"
             ],
             [
              0.8888888888888888,
              "#fdca26"
             ],
             [
              1,
              "#f0f921"
             ]
            ],
            "type": "histogram2dcontour"
           }
          ],
          "mesh3d": [
           {
            "colorbar": {
             "outlinewidth": 0,
             "ticks": ""
            },
            "type": "mesh3d"
           }
          ],
          "parcoords": [
           {
            "line": {
             "colorbar": {
              "outlinewidth": 0,
              "ticks": ""
             }
            },
            "type": "parcoords"
           }
          ],
          "pie": [
           {
            "automargin": true,
            "type": "pie"
           }
          ],
          "scatter": [
           {
            "fillpattern": {
             "fillmode": "overlay",
             "size": 10,
             "solidity": 0.2
            },
            "type": "scatter"
           }
          ],
          "scatter3d": [
           {
            "line": {
             "colorbar": {
              "outlinewidth": 0,
              "ticks": ""
             }
            },
            "marker": {
             "colorbar": {
              "outlinewidth": 0,
              "ticks": ""
             }
            },
            "type": "scatter3d"
           }
          ],
          "scattercarpet": [
           {
            "marker": {
             "colorbar": {
              "outlinewidth": 0,
              "ticks": ""
             }
            },
            "type": "scattercarpet"
           }
          ],
          "scattergeo": [
           {
            "marker": {
             "colorbar": {
              "outlinewidth": 0,
              "ticks": ""
             }
            },
            "type": "scattergeo"
           }
          ],
          "scattergl": [
           {
            "marker": {
             "colorbar": {
              "outlinewidth": 0,
              "ticks": ""
             }
            },
            "type": "scattergl"
           }
          ],
          "scattermapbox": [
           {
            "marker": {
             "colorbar": {
              "outlinewidth": 0,
              "ticks": ""
             }
            },
            "type": "scattermapbox"
           }
          ],
          "scatterpolar": [
           {
            "marker": {
             "colorbar": {
              "outlinewidth": 0,
              "ticks": ""
             }
            },
            "type": "scatterpolar"
           }
          ],
          "scatterpolargl": [
           {
            "marker": {
             "colorbar": {
              "outlinewidth": 0,
              "ticks": ""
             }
            },
            "type": "scatterpolargl"
           }
          ],
          "scatterternary": [
           {
            "marker": {
             "colorbar": {
              "outlinewidth": 0,
              "ticks": ""
             }
            },
            "type": "scatterternary"
           }
          ],
          "surface": [
           {
            "colorbar": {
             "outlinewidth": 0,
             "ticks": ""
            },
            "colorscale": [
             [
              0,
              "#0d0887"
             ],
             [
              0.1111111111111111,
              "#46039f"
             ],
             [
              0.2222222222222222,
              "#7201a8"
             ],
             [
              0.3333333333333333,
              "#9c179e"
             ],
             [
              0.4444444444444444,
              "#bd3786"
             ],
             [
              0.5555555555555556,
              "#d8576b"
             ],
             [
              0.6666666666666666,
              "#ed7953"
             ],
             [
              0.7777777777777778,
              "#fb9f3a"
             ],
             [
              0.8888888888888888,
              "#fdca26"
             ],
             [
              1,
              "#f0f921"
             ]
            ],
            "type": "surface"
           }
          ],
          "table": [
           {
            "cells": {
             "fill": {
              "color": "#EBF0F8"
             },
             "line": {
              "color": "white"
             }
            },
            "header": {
             "fill": {
              "color": "#C8D4E3"
             },
             "line": {
              "color": "white"
             }
            },
            "type": "table"
           }
          ]
         },
         "layout": {
          "annotationdefaults": {
           "arrowcolor": "#2a3f5f",
           "arrowhead": 0,
           "arrowwidth": 1
          },
          "autotypenumbers": "strict",
          "coloraxis": {
           "colorbar": {
            "outlinewidth": 0,
            "ticks": ""
           }
          },
          "colorscale": {
           "diverging": [
            [
             0,
             "#8e0152"
            ],
            [
             0.1,
             "#c51b7d"
            ],
            [
             0.2,
             "#de77ae"
            ],
            [
             0.3,
             "#f1b6da"
            ],
            [
             0.4,
             "#fde0ef"
            ],
            [
             0.5,
             "#f7f7f7"
            ],
            [
             0.6,
             "#e6f5d0"
            ],
            [
             0.7,
             "#b8e186"
            ],
            [
             0.8,
             "#7fbc41"
            ],
            [
             0.9,
             "#4d9221"
            ],
            [
             1,
             "#276419"
            ]
           ],
           "sequential": [
            [
             0,
             "#0d0887"
            ],
            [
             0.1111111111111111,
             "#46039f"
            ],
            [
             0.2222222222222222,
             "#7201a8"
            ],
            [
             0.3333333333333333,
             "#9c179e"
            ],
            [
             0.4444444444444444,
             "#bd3786"
            ],
            [
             0.5555555555555556,
             "#d8576b"
            ],
            [
             0.6666666666666666,
             "#ed7953"
            ],
            [
             0.7777777777777778,
             "#fb9f3a"
            ],
            [
             0.8888888888888888,
             "#fdca26"
            ],
            [
             1,
             "#f0f921"
            ]
           ],
           "sequentialminus": [
            [
             0,
             "#0d0887"
            ],
            [
             0.1111111111111111,
             "#46039f"
            ],
            [
             0.2222222222222222,
             "#7201a8"
            ],
            [
             0.3333333333333333,
             "#9c179e"
            ],
            [
             0.4444444444444444,
             "#bd3786"
            ],
            [
             0.5555555555555556,
             "#d8576b"
            ],
            [
             0.6666666666666666,
             "#ed7953"
            ],
            [
             0.7777777777777778,
             "#fb9f3a"
            ],
            [
             0.8888888888888888,
             "#fdca26"
            ],
            [
             1,
             "#f0f921"
            ]
           ]
          },
          "colorway": [
           "#636efa",
           "#EF553B",
           "#00cc96",
           "#ab63fa",
           "#FFA15A",
           "#19d3f3",
           "#FF6692",
           "#B6E880",
           "#FF97FF",
           "#FECB52"
          ],
          "font": {
           "color": "#2a3f5f"
          },
          "geo": {
           "bgcolor": "white",
           "lakecolor": "white",
           "landcolor": "#E5ECF6",
           "showlakes": true,
           "showland": true,
           "subunitcolor": "white"
          },
          "hoverlabel": {
           "align": "left"
          },
          "hovermode": "closest",
          "mapbox": {
           "style": "light"
          },
          "paper_bgcolor": "white",
          "plot_bgcolor": "#E5ECF6",
          "polar": {
           "angularaxis": {
            "gridcolor": "white",
            "linecolor": "white",
            "ticks": ""
           },
           "bgcolor": "#E5ECF6",
           "radialaxis": {
            "gridcolor": "white",
            "linecolor": "white",
            "ticks": ""
           }
          },
          "scene": {
           "xaxis": {
            "backgroundcolor": "#E5ECF6",
            "gridcolor": "white",
            "gridwidth": 2,
            "linecolor": "white",
            "showbackground": true,
            "ticks": "",
            "zerolinecolor": "white"
           },
           "yaxis": {
            "backgroundcolor": "#E5ECF6",
            "gridcolor": "white",
            "gridwidth": 2,
            "linecolor": "white",
            "showbackground": true,
            "ticks": "",
            "zerolinecolor": "white"
           },
           "zaxis": {
            "backgroundcolor": "#E5ECF6",
            "gridcolor": "white",
            "gridwidth": 2,
            "linecolor": "white",
            "showbackground": true,
            "ticks": "",
            "zerolinecolor": "white"
           }
          },
          "shapedefaults": {
           "line": {
            "color": "#2a3f5f"
           }
          },
          "ternary": {
           "aaxis": {
            "gridcolor": "white",
            "linecolor": "white",
            "ticks": ""
           },
           "baxis": {
            "gridcolor": "white",
            "linecolor": "white",
            "ticks": ""
           },
           "bgcolor": "#E5ECF6",
           "caxis": {
            "gridcolor": "white",
            "linecolor": "white",
            "ticks": ""
           }
          },
          "title": {
           "x": 0.05
          },
          "xaxis": {
           "automargin": true,
           "gridcolor": "white",
           "linecolor": "white",
           "ticks": "",
           "title": {
            "standoff": 15
           },
           "zerolinecolor": "white",
           "zerolinewidth": 2
          },
          "yaxis": {
           "automargin": true,
           "gridcolor": "white",
           "linecolor": "white",
           "ticks": "",
           "title": {
            "standoff": 15
           },
           "zerolinecolor": "white",
           "zerolinewidth": 2
          }
         }
        },
        "xaxis": {
         "anchor": "y",
         "constrain": "domain",
         "domain": [
          0,
          1
         ],
         "scaleanchor": "y"
        },
        "yaxis": {
         "anchor": "x",
         "autorange": "reversed",
         "constrain": "domain",
         "domain": [
          0,
          1
         ]
        }
       }
      }
     },
     "metadata": {},
     "output_type": "display_data"
    }
   ],
   "source": [
    "px.imshow(data.corr())"
   ]
  },
  {
   "cell_type": "code",
   "execution_count": 1,
   "metadata": {},
   "outputs": [
    {
     "name": "stdout",
     "output_type": "stream",
     "text": [
      "p-value = 0.414\n"
     ]
    }
   ],
   "source": [
    "import scipy.stats as stats\n",
    "\n",
    "# задаём уровень значимости\n",
    "alpha = 0.05 \n",
    "\n",
    "# загружаем данные\n",
    "data = [12,  8,  9, 10, 11, 12,  7, 12,  2, 10,  3,  9, 18, 4, 11, 13, 13, 17, 14,  3, 10,  2,  2,  7, 14,  8, 20,  5,  7, 10]\n",
    "\n",
    "# проводим тест Шапиро — Уилка\n",
    "_, p = stats.shapiro(data)\n",
    "\n",
    "print('p-value = %.3f' % (p))"
   ]
  }
 ],
 "metadata": {
  "kernelspec": {
   "display_name": "Python 3",
   "language": "python",
   "name": "python3"
  },
  "language_info": {
   "codemirror_mode": {
    "name": "ipython",
    "version": 3
   },
   "file_extension": ".py",
   "mimetype": "text/x-python",
   "name": "python",
   "nbconvert_exporter": "python",
   "pygments_lexer": "ipython3",
   "version": "3.11.7"
  },
  "orig_nbformat": 4
 },
 "nbformat": 4,
 "nbformat_minor": 2
}
