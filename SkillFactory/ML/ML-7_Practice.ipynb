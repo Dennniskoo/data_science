{
 "cells": [
  {
   "cell_type": "code",
   "execution_count": 30,
   "metadata": {},
   "outputs": [
    {
     "data": {
      "text/html": [
       "<div>\n",
       "<style scoped>\n",
       "    .dataframe tbody tr th:only-of-type {\n",
       "        vertical-align: middle;\n",
       "    }\n",
       "\n",
       "    .dataframe tbody tr th {\n",
       "        vertical-align: top;\n",
       "    }\n",
       "\n",
       "    .dataframe thead th {\n",
       "        text-align: right;\n",
       "    }\n",
       "</style>\n",
       "<table border=\"1\" class=\"dataframe\">\n",
       "  <thead>\n",
       "    <tr style=\"text-align: right;\">\n",
       "      <th></th>\n",
       "      <th>Activity</th>\n",
       "      <th>D1</th>\n",
       "      <th>D2</th>\n",
       "      <th>D3</th>\n",
       "      <th>D4</th>\n",
       "      <th>D5</th>\n",
       "      <th>D6</th>\n",
       "      <th>D7</th>\n",
       "      <th>D8</th>\n",
       "      <th>D9</th>\n",
       "      <th>...</th>\n",
       "      <th>D1767</th>\n",
       "      <th>D1768</th>\n",
       "      <th>D1769</th>\n",
       "      <th>D1770</th>\n",
       "      <th>D1771</th>\n",
       "      <th>D1772</th>\n",
       "      <th>D1773</th>\n",
       "      <th>D1774</th>\n",
       "      <th>D1775</th>\n",
       "      <th>D1776</th>\n",
       "    </tr>\n",
       "  </thead>\n",
       "  <tbody>\n",
       "    <tr>\n",
       "      <th>2148</th>\n",
       "      <td>1</td>\n",
       "      <td>0.100000</td>\n",
       "      <td>0.734427</td>\n",
       "      <td>0.20</td>\n",
       "      <td>0.25</td>\n",
       "      <td>0.136259</td>\n",
       "      <td>0.674081</td>\n",
       "      <td>0.212153</td>\n",
       "      <td>0.512164</td>\n",
       "      <td>0.707647</td>\n",
       "      <td>...</td>\n",
       "      <td>0</td>\n",
       "      <td>0</td>\n",
       "      <td>0</td>\n",
       "      <td>0</td>\n",
       "      <td>0</td>\n",
       "      <td>0</td>\n",
       "      <td>0</td>\n",
       "      <td>0</td>\n",
       "      <td>0</td>\n",
       "      <td>0</td>\n",
       "    </tr>\n",
       "    <tr>\n",
       "      <th>1044</th>\n",
       "      <td>1</td>\n",
       "      <td>0.000000</td>\n",
       "      <td>0.372990</td>\n",
       "      <td>0.00</td>\n",
       "      <td>0.00</td>\n",
       "      <td>0.124049</td>\n",
       "      <td>0.608342</td>\n",
       "      <td>0.405229</td>\n",
       "      <td>0.593604</td>\n",
       "      <td>0.737318</td>\n",
       "      <td>...</td>\n",
       "      <td>0</td>\n",
       "      <td>0</td>\n",
       "      <td>0</td>\n",
       "      <td>0</td>\n",
       "      <td>0</td>\n",
       "      <td>0</td>\n",
       "      <td>0</td>\n",
       "      <td>0</td>\n",
       "      <td>0</td>\n",
       "      <td>0</td>\n",
       "    </tr>\n",
       "    <tr>\n",
       "      <th>3319</th>\n",
       "      <td>0</td>\n",
       "      <td>0.000000</td>\n",
       "      <td>0.337305</td>\n",
       "      <td>0.00</td>\n",
       "      <td>0.00</td>\n",
       "      <td>0.192214</td>\n",
       "      <td>0.702996</td>\n",
       "      <td>0.281719</td>\n",
       "      <td>0.067800</td>\n",
       "      <td>0.805263</td>\n",
       "      <td>...</td>\n",
       "      <td>0</td>\n",
       "      <td>0</td>\n",
       "      <td>0</td>\n",
       "      <td>0</td>\n",
       "      <td>0</td>\n",
       "      <td>0</td>\n",
       "      <td>0</td>\n",
       "      <td>0</td>\n",
       "      <td>0</td>\n",
       "      <td>0</td>\n",
       "    </tr>\n",
       "    <tr>\n",
       "      <th>439</th>\n",
       "      <td>1</td>\n",
       "      <td>0.033300</td>\n",
       "      <td>0.560480</td>\n",
       "      <td>0.05</td>\n",
       "      <td>0.00</td>\n",
       "      <td>0.154026</td>\n",
       "      <td>0.616952</td>\n",
       "      <td>0.228655</td>\n",
       "      <td>0.528427</td>\n",
       "      <td>0.722801</td>\n",
       "      <td>...</td>\n",
       "      <td>0</td>\n",
       "      <td>0</td>\n",
       "      <td>0</td>\n",
       "      <td>0</td>\n",
       "      <td>0</td>\n",
       "      <td>0</td>\n",
       "      <td>0</td>\n",
       "      <td>0</td>\n",
       "      <td>0</td>\n",
       "      <td>0</td>\n",
       "    </tr>\n",
       "    <tr>\n",
       "      <th>3516</th>\n",
       "      <td>0</td>\n",
       "      <td>0.033300</td>\n",
       "      <td>0.694001</td>\n",
       "      <td>0.00</td>\n",
       "      <td>0.00</td>\n",
       "      <td>0.280807</td>\n",
       "      <td>0.574624</td>\n",
       "      <td>0.451219</td>\n",
       "      <td>0.705057</td>\n",
       "      <td>0.707184</td>\n",
       "      <td>...</td>\n",
       "      <td>0</td>\n",
       "      <td>0</td>\n",
       "      <td>0</td>\n",
       "      <td>0</td>\n",
       "      <td>0</td>\n",
       "      <td>0</td>\n",
       "      <td>0</td>\n",
       "      <td>0</td>\n",
       "      <td>0</td>\n",
       "      <td>0</td>\n",
       "    </tr>\n",
       "    <tr>\n",
       "      <th>...</th>\n",
       "      <td>...</td>\n",
       "      <td>...</td>\n",
       "      <td>...</td>\n",
       "      <td>...</td>\n",
       "      <td>...</td>\n",
       "      <td>...</td>\n",
       "      <td>...</td>\n",
       "      <td>...</td>\n",
       "      <td>...</td>\n",
       "      <td>...</td>\n",
       "      <td>...</td>\n",
       "      <td>...</td>\n",
       "      <td>...</td>\n",
       "      <td>...</td>\n",
       "      <td>...</td>\n",
       "      <td>...</td>\n",
       "      <td>...</td>\n",
       "      <td>...</td>\n",
       "      <td>...</td>\n",
       "      <td>...</td>\n",
       "      <td>...</td>\n",
       "    </tr>\n",
       "    <tr>\n",
       "      <th>3088</th>\n",
       "      <td>1</td>\n",
       "      <td>0.000000</td>\n",
       "      <td>0.433635</td>\n",
       "      <td>0.00</td>\n",
       "      <td>0.00</td>\n",
       "      <td>0.108839</td>\n",
       "      <td>0.637266</td>\n",
       "      <td>0.419417</td>\n",
       "      <td>0.603541</td>\n",
       "      <td>0.763116</td>\n",
       "      <td>...</td>\n",
       "      <td>0</td>\n",
       "      <td>0</td>\n",
       "      <td>0</td>\n",
       "      <td>0</td>\n",
       "      <td>0</td>\n",
       "      <td>0</td>\n",
       "      <td>0</td>\n",
       "      <td>0</td>\n",
       "      <td>0</td>\n",
       "      <td>0</td>\n",
       "    </tr>\n",
       "    <tr>\n",
       "      <th>1667</th>\n",
       "      <td>1</td>\n",
       "      <td>0.000000</td>\n",
       "      <td>0.627946</td>\n",
       "      <td>0.05</td>\n",
       "      <td>0.00</td>\n",
       "      <td>0.188412</td>\n",
       "      <td>0.660975</td>\n",
       "      <td>0.359105</td>\n",
       "      <td>0.587391</td>\n",
       "      <td>0.742754</td>\n",
       "      <td>...</td>\n",
       "      <td>0</td>\n",
       "      <td>0</td>\n",
       "      <td>0</td>\n",
       "      <td>0</td>\n",
       "      <td>0</td>\n",
       "      <td>0</td>\n",
       "      <td>0</td>\n",
       "      <td>0</td>\n",
       "      <td>0</td>\n",
       "      <td>0</td>\n",
       "    </tr>\n",
       "    <tr>\n",
       "      <th>568</th>\n",
       "      <td>1</td>\n",
       "      <td>0.000000</td>\n",
       "      <td>0.640995</td>\n",
       "      <td>0.10</td>\n",
       "      <td>0.00</td>\n",
       "      <td>0.153449</td>\n",
       "      <td>0.667856</td>\n",
       "      <td>0.406175</td>\n",
       "      <td>0.568136</td>\n",
       "      <td>0.771680</td>\n",
       "      <td>...</td>\n",
       "      <td>0</td>\n",
       "      <td>0</td>\n",
       "      <td>0</td>\n",
       "      <td>0</td>\n",
       "      <td>0</td>\n",
       "      <td>0</td>\n",
       "      <td>0</td>\n",
       "      <td>0</td>\n",
       "      <td>0</td>\n",
       "      <td>0</td>\n",
       "    </tr>\n",
       "    <tr>\n",
       "      <th>3750</th>\n",
       "      <td>0</td>\n",
       "      <td>0.133333</td>\n",
       "      <td>0.533952</td>\n",
       "      <td>0.00</td>\n",
       "      <td>0.00</td>\n",
       "      <td>0.347966</td>\n",
       "      <td>0.757971</td>\n",
       "      <td>0.230667</td>\n",
       "      <td>0.272652</td>\n",
       "      <td>0.854116</td>\n",
       "      <td>...</td>\n",
       "      <td>0</td>\n",
       "      <td>0</td>\n",
       "      <td>0</td>\n",
       "      <td>0</td>\n",
       "      <td>0</td>\n",
       "      <td>0</td>\n",
       "      <td>0</td>\n",
       "      <td>0</td>\n",
       "      <td>0</td>\n",
       "      <td>0</td>\n",
       "    </tr>\n",
       "    <tr>\n",
       "      <th>1938</th>\n",
       "      <td>0</td>\n",
       "      <td>0.000000</td>\n",
       "      <td>0.467733</td>\n",
       "      <td>0.10</td>\n",
       "      <td>0.00</td>\n",
       "      <td>0.138138</td>\n",
       "      <td>0.672713</td>\n",
       "      <td>0.231706</td>\n",
       "      <td>0.520757</td>\n",
       "      <td>0.762060</td>\n",
       "      <td>...</td>\n",
       "      <td>0</td>\n",
       "      <td>0</td>\n",
       "      <td>0</td>\n",
       "      <td>0</td>\n",
       "      <td>0</td>\n",
       "      <td>0</td>\n",
       "      <td>0</td>\n",
       "      <td>0</td>\n",
       "      <td>0</td>\n",
       "      <td>0</td>\n",
       "    </tr>\n",
       "  </tbody>\n",
       "</table>\n",
       "<p>938 rows × 1777 columns</p>\n",
       "</div>"
      ],
      "text/plain": [
       "      Activity        D1        D2    D3    D4        D5        D6        D7  \\\n",
       "2148         1  0.100000  0.734427  0.20  0.25  0.136259  0.674081  0.212153   \n",
       "1044         1  0.000000  0.372990  0.00  0.00  0.124049  0.608342  0.405229   \n",
       "3319         0  0.000000  0.337305  0.00  0.00  0.192214  0.702996  0.281719   \n",
       "439          1  0.033300  0.560480  0.05  0.00  0.154026  0.616952  0.228655   \n",
       "3516         0  0.033300  0.694001  0.00  0.00  0.280807  0.574624  0.451219   \n",
       "...        ...       ...       ...   ...   ...       ...       ...       ...   \n",
       "3088         1  0.000000  0.433635  0.00  0.00  0.108839  0.637266  0.419417   \n",
       "1667         1  0.000000  0.627946  0.05  0.00  0.188412  0.660975  0.359105   \n",
       "568          1  0.000000  0.640995  0.10  0.00  0.153449  0.667856  0.406175   \n",
       "3750         0  0.133333  0.533952  0.00  0.00  0.347966  0.757971  0.230667   \n",
       "1938         0  0.000000  0.467733  0.10  0.00  0.138138  0.672713  0.231706   \n",
       "\n",
       "            D8        D9  ...  D1767  D1768  D1769  D1770  D1771  D1772  \\\n",
       "2148  0.512164  0.707647  ...      0      0      0      0      0      0   \n",
       "1044  0.593604  0.737318  ...      0      0      0      0      0      0   \n",
       "3319  0.067800  0.805263  ...      0      0      0      0      0      0   \n",
       "439   0.528427  0.722801  ...      0      0      0      0      0      0   \n",
       "3516  0.705057  0.707184  ...      0      0      0      0      0      0   \n",
       "...        ...       ...  ...    ...    ...    ...    ...    ...    ...   \n",
       "3088  0.603541  0.763116  ...      0      0      0      0      0      0   \n",
       "1667  0.587391  0.742754  ...      0      0      0      0      0      0   \n",
       "568   0.568136  0.771680  ...      0      0      0      0      0      0   \n",
       "3750  0.272652  0.854116  ...      0      0      0      0      0      0   \n",
       "1938  0.520757  0.762060  ...      0      0      0      0      0      0   \n",
       "\n",
       "      D1773  D1774  D1775  D1776  \n",
       "2148      0      0      0      0  \n",
       "1044      0      0      0      0  \n",
       "3319      0      0      0      0  \n",
       "439       0      0      0      0  \n",
       "3516      0      0      0      0  \n",
       "...     ...    ...    ...    ...  \n",
       "3088      0      0      0      0  \n",
       "1667      0      0      0      0  \n",
       "568       0      0      0      0  \n",
       "3750      0      0      0      0  \n",
       "1938      0      0      0      0  \n",
       "\n",
       "[938 rows x 1777 columns]"
      ]
     },
     "execution_count": 30,
     "metadata": {},
     "output_type": "execute_result"
    }
   ],
   "source": [
    "import pandas as pd\n",
    "import numpy as np\n",
    "from sklearn.model_selection import train_test_split\n",
    "from sklearn.linear_model import LogisticRegression\n",
    "from sklearn.metrics import f1_score\n",
    "from sklearn.ensemble import RandomForestClassifier\n",
    "from sklearn.model_selection import GridSearchCV, RandomizedSearchCV\n",
    "from sklearn.model_selection import cross_val_score\n",
    "from hyperopt import hp, fmin, tpe, Trials\n",
    "results = dict()\n",
    "\n",
    "data = pd.read_csv('_train_sem09__1_.zip').sample(frac=0.25, random_state=42)\n",
    "data"
   ]
  },
  {
   "cell_type": "code",
   "execution_count": 31,
   "metadata": {},
   "outputs": [
    {
     "data": {
      "text/plain": [
       "np.int64(0)"
      ]
     },
     "execution_count": 31,
     "metadata": {},
     "output_type": "execute_result"
    }
   ],
   "source": [
    "data.isna().sum().sum()"
   ]
  },
  {
   "cell_type": "code",
   "execution_count": 32,
   "metadata": {},
   "outputs": [
    {
     "data": {
      "text/plain": [
       "Activity\n",
       "1    535\n",
       "0    403\n",
       "Name: count, dtype: int64"
      ]
     },
     "execution_count": 32,
     "metadata": {},
     "output_type": "execute_result"
    }
   ],
   "source": [
    "data['Activity'].value_counts()"
   ]
  },
  {
   "cell_type": "code",
   "execution_count": 33,
   "metadata": {},
   "outputs": [],
   "source": [
    "X = data.drop(columns='Activity')\n",
    "y = data['Activity']"
   ]
  },
  {
   "cell_type": "code",
   "execution_count": 34,
   "metadata": {},
   "outputs": [],
   "source": [
    "X_train, X_test, y_train, y_test = train_test_split(X, y, test_size=0.2)"
   ]
  },
  {
   "cell_type": "markdown",
   "metadata": {},
   "source": [
    "#### Обучим модели с параметрами по умолчанию"
   ]
  },
  {
   "cell_type": "code",
   "execution_count": 35,
   "metadata": {},
   "outputs": [
    {
     "name": "stdout",
     "output_type": "stream",
     "text": [
      "f1_score на тестовом наборе: 0.78571\n"
     ]
    }
   ],
   "source": [
    "model = LogisticRegression(max_iter=1000, random_state=42)\n",
    "model.fit(X_train, y_train)\n",
    "\n",
    "results['LR'] = round(f1_score(y_test, model.predict(X_test)), 5)\n",
    "print('f1_score на тестовом наборе: {:.5f}'.format(results['LR']))"
   ]
  },
  {
   "cell_type": "code",
   "execution_count": 36,
   "metadata": {},
   "outputs": [
    {
     "name": "stdout",
     "output_type": "stream",
     "text": [
      "f1_score на тестовом наборе: 0.81081\n"
     ]
    }
   ],
   "source": [
    "model = RandomForestClassifier(random_state=42)\n",
    "model.fit(X_train, y_train)\n",
    "\n",
    "results['RF'] = round(f1_score(y_test, model.predict(X_test)), 5)\n",
    "print('f1_score на тестовом наборе: {:.5f}'.format(results['RF']))"
   ]
  },
  {
   "cell_type": "markdown",
   "metadata": {},
   "source": [
    "#### Метод GridSearchCV регрессия:"
   ]
  },
  {
   "cell_type": "code",
   "execution_count": 37,
   "metadata": {},
   "outputs": [
    {
     "name": "stdout",
     "output_type": "stream",
     "text": [
      "f1_score на тестовом наборе: 0.78571\n",
      "Наилучшие значения гиперпараметров: {'penalty': 'l2', 'solver': 'lbfgs'}\n"
     ]
    }
   ],
   "source": [
    "param_grid = {'penalty': ['l2', None] ,#тип регурялизации\n",
    "              'solver': ['lbfgs', 'saga'], #алгоритм оптимизации\n",
    "              }\n",
    "grid_search = GridSearchCV(\n",
    "    estimator=LogisticRegression(random_state=42, max_iter=1000), \n",
    "    param_grid=param_grid,\n",
    "    cv=5,\n",
    "    n_jobs = -1\n",
    ")  \n",
    "\n",
    "grid_search.fit(X_train, y_train) \n",
    "y_pred = grid_search.predict(X_test)\n",
    "results['LR GridSearchCV'] = round(f1_score(y_test, y_pred), 5)\n",
    "print('f1_score на тестовом наборе: {:.5f}'.format(results['LR GridSearchCV']))\n",
    "print(\"Наилучшие значения гиперпараметров:\", grid_search.best_params_)"
   ]
  },
  {
   "cell_type": "markdown",
   "metadata": {},
   "source": [
    "#### Метод GridSearchCV случайный лес:"
   ]
  },
  {
   "cell_type": "code",
   "execution_count": 38,
   "metadata": {},
   "outputs": [
    {
     "name": "stdout",
     "output_type": "stream",
     "text": [
      "f1_score на тестовом наборе: 0.81057\n",
      "Наилучшие значения гиперпараметров: {'criterion': 'entropy', 'max_depth': 15, 'min_samples_leaf': 5, 'n_estimators': 100}\n"
     ]
    }
   ],
   "source": [
    "param_grid = {'n_estimators': list(range(100, 200, 30)),\n",
    "              'min_samples_leaf': [5, 7],\n",
    "              'max_depth': [10, 15, 20, 25],\n",
    "              'criterion':['entropy','gini']\n",
    "              }\n",
    "            \n",
    "\n",
    "grid_search = GridSearchCV(\n",
    "    estimator=RandomForestClassifier(random_state=42),\n",
    "    param_grid=param_grid,\n",
    "    cv=5,\n",
    "    n_jobs=-1\n",
    ")\n",
    "\n",
    "grid_search.fit(X_train, y_train) \n",
    "y_pred = grid_search.predict(X_test)\n",
    "results['RF GridSearchCV'] = round(f1_score(y_test, y_pred), 5)\n",
    "print('f1_score на тестовом наборе: {:.5f}'.format(results['RF GridSearchCV']))\n",
    "print(\"Наилучшие значения гиперпараметров:\", grid_search.best_params_)"
   ]
  },
  {
   "cell_type": "markdown",
   "metadata": {},
   "source": [
    "#### Метод RandomizedSearchCV регрессия:"
   ]
  },
  {
   "cell_type": "code",
   "execution_count": 39,
   "metadata": {},
   "outputs": [
    {
     "name": "stdout",
     "output_type": "stream",
     "text": [
      "f1_score на тестовом наборе: 0.80357\n",
      "Наилучшие значения гиперпараметров: {'solver': 'lbfgs', 'penalty': 'l2', 'C': np.float64(0.34)}\n"
     ]
    }
   ],
   "source": [
    "param_distributions = {'penalty': ['l2', None] ,\n",
    "              'solver': ['lbfgs', 'sag'],\n",
    "               'C': list(np.linspace(0.01, 1, 10, dtype=float))\n",
    "               }\n",
    "            \n",
    "\n",
    "grid_search = RandomizedSearchCV(\n",
    "    estimator=LogisticRegression(random_state=42, max_iter=1000),\n",
    "    param_distributions=param_distributions,\n",
    "    cv=5,\n",
    "    n_jobs=-1\n",
    ")\n",
    "\n",
    "grid_search.fit(X_train, y_train) \n",
    "y_pred = grid_search.predict(X_test)\n",
    "results['LR RandomizedSearchCV'] = round(f1_score(y_test, y_pred), 5)\n",
    "print('f1_score на тестовом наборе: {:.5f}'.format(results['LR RandomizedSearchCV']))\n",
    "print(\"Наилучшие значения гиперпараметров:\", grid_search.best_params_)"
   ]
  },
  {
   "cell_type": "markdown",
   "metadata": {},
   "source": [
    "#### Метод RandomizedSearchCV случайный лес:"
   ]
  },
  {
   "cell_type": "code",
   "execution_count": 40,
   "metadata": {},
   "outputs": [
    {
     "name": "stdout",
     "output_type": "stream",
     "text": [
      "f1_score на тестовом наборе: 0.81778\n",
      "Наилучшие значения гиперпараметров: {'n_estimators': 130, 'min_samples_leaf': np.int64(2), 'max_depth': np.int64(26), 'criterion': 'entropy'}\n"
     ]
    }
   ],
   "source": [
    "param_distributions = {'n_estimators': list(range(100, 200, 10)),\n",
    "              'min_samples_leaf': list(np.linspace(1, 10, 10, dtype=int)),\n",
    "              'max_depth': list(np.linspace(1, 40, 40, dtype=int)),\n",
    "              'criterion':['entropy','gini']\n",
    "              }\n",
    "            \n",
    "\n",
    "grid_search = RandomizedSearchCV(\n",
    "    estimator=RandomForestClassifier(random_state=42),\n",
    "    param_distributions=param_distributions,\n",
    "    cv=5,\n",
    "    n_jobs=-1\n",
    ")\n",
    "\n",
    "grid_search.fit(X_train, y_train) \n",
    "y_pred = grid_search.predict(X_test)\n",
    "results['RF RandomizedSearchCV'] = round(f1_score(y_test, y_pred), 5)\n",
    "print('f1_score на тестовом наборе: {:.5f}'.format(results['RF RandomizedSearchCV']))\n",
    "print(\"Наилучшие значения гиперпараметров:\", grid_search.best_params_)"
   ]
  },
  {
   "cell_type": "markdown",
   "metadata": {},
   "source": [
    "#### Метод Hyperopt регрессия:"
   ]
  },
  {
   "cell_type": "code",
   "execution_count": 41,
   "metadata": {},
   "outputs": [],
   "source": [
    "def hyperopt_rf(params, X=X_train, y=y_train):\n",
    "    # функция получает комбинацию гиперпараметров в \"params\"\n",
    "    params = {'n_estimators': int(params['n_estimators']), \n",
    "              'max_depth': int(params['max_depth']), \n",
    "             'min_samples_leaf': int(params['min_samples_leaf'])\n",
    "              }\n",
    "  \n",
    "    # используем эту комбинацию для построения модели\n",
    "    model = RandomForestClassifier(**params, random_state=42)\n",
    "    \n",
    "    # применим  cross validation с тем же количеством фолдов\n",
    "    score = cross_val_score(model, X, y, cv=5, scoring=\"f1\", n_jobs=-1).mean()\n",
    "\n",
    "    # метрику необходимо минимизировать, поэтому ставим знак минус\n",
    "    return -score\n",
    "\n",
    "def hyperopt_lr(params, X=X_train, y=y_train):\n",
    "    # функция получает комбинацию гиперпараметров в \"params\"\n",
    "    params = { 'solver': params['solver'], 'C': params['C']}\n",
    "  \n",
    "    # используем эту комбинацию для построения модели\n",
    "    model = LogisticRegression(**params, penalty='l2', random_state=42, max_iter=10000)\n",
    "\n",
    "    # применим  cross validation с тем же количеством фолдов\n",
    "    score = cross_val_score(model, X, y, cv=5, scoring=\"f1\", n_jobs=-1).mean()\n",
    "\n",
    "    # метрику необходимо минимизировать, поэтому ставим знак минус\n",
    "    return -score"
   ]
  },
  {
   "cell_type": "code",
   "execution_count": 42,
   "metadata": {},
   "outputs": [
    {
     "name": "stdout",
     "output_type": "stream",
     "text": [
      "100%|██████████| 20/20 [01:11<00:00,  3.56s/trial, best loss: -0.7747812752219532]\n",
      "Наилучшие значения гиперпараметров  {'C': np.float64(0.4), 'solver': np.int64(0)} , best solver:  lbfgs\n"
     ]
    }
   ],
   "source": [
    "space = {\n",
    "        'solver': hp.choice('solver', ['lbfgs', 'sag']),\n",
    "        'C': hp.quniform('C', 0.01, 10, 0.1)\n",
    "}\n",
    "\n",
    "trials = Trials() # используется для логирования результатов\n",
    "\n",
    "best = fmin(hyperopt_lr,\n",
    "            space=space,\n",
    "            max_evals=20,\n",
    "            algo=tpe.suggest,\n",
    "            trials=trials,\n",
    "            rstate=np.random.default_rng(42)\n",
    "            )\n",
    "\n",
    "# best['solver'] возвращает индекс параметра в листе, переданном hp.choice\n",
    "print(\"Наилучшие значения гиперпараметров \", best, ', best solver: ', ['lbfgs', 'sag'][best['solver']])"
   ]
  },
  {
   "cell_type": "code",
   "execution_count": 43,
   "metadata": {},
   "outputs": [
    {
     "name": "stdout",
     "output_type": "stream",
     "text": [
      "f1_score на тестовом наборе: 0.80357\n"
     ]
    }
   ],
   "source": [
    "model = LogisticRegression(penalty='l2', solver=['lbfgs', 'sag'][best['solver']], C=best['C'] , random_state=42, max_iter=5000)\n",
    "model.fit(X_train, y_train)\n",
    "\n",
    "y_pred = model.predict(X_test)\n",
    "results['LR Hyperopt'] = round(f1_score(y_test, y_pred), 5)\n",
    "print('f1_score на тестовом наборе: {:.5f}'.format(results['LR Hyperopt']))"
   ]
  },
  {
   "cell_type": "markdown",
   "metadata": {},
   "source": [
    "#### Метод Hyperopt случайный лес:"
   ]
  },
  {
   "cell_type": "code",
   "execution_count": 44,
   "metadata": {},
   "outputs": [
    {
     "name": "stdout",
     "output_type": "stream",
     "text": [
      "100%|██████████| 20/20 [00:17<00:00,  1.16trial/s, best loss: -0.7937864048349323]\n",
      "Наилучшие значения гиперпараметров {'max_depth': np.float64(125.0), 'min_samples_leaf': np.float64(4.0), 'n_estimators': np.float64(230.0)}\n"
     ]
    }
   ],
   "source": [
    "space={'n_estimators': hp.quniform('n_estimators', 50, 500, 10),\n",
    "       'max_depth' : hp.quniform('max_depth', 10, 200, 5),\n",
    "       'min_samples_leaf': hp.quniform('min_samples_leaf', 2, 10, 1)\n",
    "      }\n",
    "\n",
    "trials = Trials() # используется для логирования результатов\n",
    "\n",
    "best=fmin(hyperopt_rf, # наша функция \n",
    "          space=space, # пространство гиперпараметров\n",
    "          algo=tpe.suggest, # алгоритм оптимизации, установлен по умолчанию, задавать необязательно\n",
    "          max_evals=20, # максимальное количество итераций\n",
    "          trials=trials, # логирование результатов\n",
    "          rstate=np.random.default_rng(42)# фиксируем для повторяемости результата\n",
    "         )\n",
    "print(\"Наилучшие значения гиперпараметров {}\".format(best))"
   ]
  },
  {
   "cell_type": "code",
   "execution_count": 45,
   "metadata": {},
   "outputs": [
    {
     "name": "stdout",
     "output_type": "stream",
     "text": [
      "f1_score на тестовом наборе: 0.80702\n"
     ]
    }
   ],
   "source": [
    "model = RandomForestClassifier(\n",
    "    random_state=42, \n",
    "    n_estimators=int(best['n_estimators']),\n",
    "    max_depth=int(best['max_depth']),\n",
    "    min_samples_leaf=int(best['min_samples_leaf'])\n",
    ")\n",
    "model.fit(X_train, y_train)\n",
    "\n",
    "y_pred = model.predict(X_test)\n",
    "results['RF Hyperopt'] = round(f1_score(y_test, y_pred), 5)\n",
    "print('f1_score на тестовом наборе: {:.5f}'.format(results['RF Hyperopt']))"
   ]
  },
  {
   "cell_type": "markdown",
   "metadata": {},
   "source": [
    "#### Метод Optuna регрессия:"
   ]
  },
  {
   "cell_type": "code",
   "execution_count": 46,
   "metadata": {},
   "outputs": [],
   "source": [
    "import optuna"
   ]
  },
  {
   "cell_type": "code",
   "execution_count": 47,
   "metadata": {},
   "outputs": [],
   "source": [
    "def optuna_rf(trial):\n",
    "    # задаем пространства поиска гиперпараметров\n",
    "    n_estimators = trial.suggest_int('n_estimators', 100, 300, step=10)\n",
    "    max_depth = trial.suggest_int('max_depth', 15, 40, step=1)\n",
    "    min_samples_leaf = trial.suggest_int('min_samples_leaf', 3, 7, step=1)\n",
    "\n",
    "    # создаем модель\n",
    "    model = RandomForestClassifier(n_estimators=n_estimators,\n",
    "                                   max_depth=max_depth,\n",
    "                                   min_samples_leaf=min_samples_leaf,\n",
    "                                   random_state=42)\n",
    "    \n",
    "    score = cross_val_score(model, X_train, y_train, cv=5, scoring=\"f1\", n_jobs=-1).mean()\n",
    "\n",
    "    return score\n",
    "\n",
    "def optuna_lr(trial):\n",
    "    # задаем пространства поиска гиперпараметров\n",
    "    penalty = trial.suggest_categorical('penalty',  ['l2', None])\n",
    "    solver = trial.suggest_categorical('solver', ['lbfgs', 'sag'])\n",
    "    C = trial.suggest_float('C', 0.05, 1, step=0.05)\n",
    "    \n",
    "    # создаем модель\n",
    "    model = LogisticRegression(penalty=penalty,\n",
    "                               solver=solver,\n",
    "                               C=C,\n",
    "                               random_state=42,\n",
    "                               max_iter=5000)\n",
    "    \n",
    "    score = cross_val_score(model, X_train, y_train, cv=5, scoring=\"f1\", n_jobs=-1).mean()\n",
    "\n",
    "    return score"
   ]
  },
  {
   "cell_type": "code",
   "execution_count": 48,
   "metadata": {},
   "outputs": [
    {
     "name": "stderr",
     "output_type": "stream",
     "text": [
      "[I 2025-02-04 23:51:15,005] A new study created in memory with name: LogisticRegression\n",
      "[I 2025-02-04 23:51:16,351] Trial 0 finished with value: 0.7730758965086745 and parameters: {'penalty': 'l2', 'solver': 'sag', 'C': 0.05}. Best is trial 0 with value: 0.7730758965086745.\n",
      "[I 2025-02-04 23:51:18,250] Trial 1 finished with value: 0.7675755292952295 and parameters: {'penalty': 'l2', 'solver': 'sag', 'C': 0.6000000000000001}. Best is trial 0 with value: 0.7730758965086745.\n",
      "[I 2025-02-04 23:51:20,886] Trial 2 finished with value: 0.7618174535219435 and parameters: {'penalty': 'l2', 'solver': 'sag', 'C': 1.0}. Best is trial 0 with value: 0.7730758965086745.\n",
      "[I 2025-02-04 23:51:22,477] Trial 3 finished with value: 0.7750150616965346 and parameters: {'penalty': 'l2', 'solver': 'sag', 'C': 0.5}. Best is trial 3 with value: 0.7750150616965346.\n",
      "[I 2025-02-04 23:51:43,508] Trial 4 finished with value: 0.7280437200305656 and parameters: {'penalty': None, 'solver': 'sag', 'C': 0.15000000000000002}. Best is trial 3 with value: 0.7750150616965346.\n",
      "[I 2025-02-04 23:51:43,766] Trial 5 finished with value: 0.7247753598494069 and parameters: {'penalty': None, 'solver': 'lbfgs', 'C': 0.55}. Best is trial 3 with value: 0.7750150616965346.\n",
      "[I 2025-02-04 23:51:44,157] Trial 6 finished with value: 0.7694728696814268 and parameters: {'penalty': 'l2', 'solver': 'lbfgs', 'C': 0.6500000000000001}. Best is trial 3 with value: 0.7750150616965346.\n",
      "[I 2025-02-04 23:52:05,956] Trial 7 finished with value: 0.7280437200305656 and parameters: {'penalty': None, 'solver': 'sag', 'C': 0.5}. Best is trial 3 with value: 0.7750150616965346.\n",
      "[I 2025-02-04 23:52:27,493] Trial 8 finished with value: 0.7280437200305656 and parameters: {'penalty': None, 'solver': 'sag', 'C': 0.6000000000000001}. Best is trial 3 with value: 0.7750150616965346.\n",
      "[I 2025-02-04 23:52:29,935] Trial 9 finished with value: 0.7643787022360445 and parameters: {'penalty': 'l2', 'solver': 'sag', 'C': 0.7500000000000001}. Best is trial 3 with value: 0.7750150616965346.\n",
      "[I 2025-02-04 23:52:30,275] Trial 10 finished with value: 0.7769661160221786 and parameters: {'penalty': 'l2', 'solver': 'lbfgs', 'C': 0.25}. Best is trial 10 with value: 0.7769661160221786.\n",
      "[I 2025-02-04 23:52:30,609] Trial 11 finished with value: 0.7791972927677336 and parameters: {'penalty': 'l2', 'solver': 'lbfgs', 'C': 0.3}. Best is trial 11 with value: 0.7791972927677336.\n",
      "[I 2025-02-04 23:52:30,942] Trial 12 finished with value: 0.7791972927677336 and parameters: {'penalty': 'l2', 'solver': 'lbfgs', 'C': 0.3}. Best is trial 11 with value: 0.7791972927677336.\n",
      "[I 2025-02-04 23:52:31,274] Trial 13 finished with value: 0.7791972927677336 and parameters: {'penalty': 'l2', 'solver': 'lbfgs', 'C': 0.3}. Best is trial 11 with value: 0.7791972927677336.\n",
      "[I 2025-02-04 23:52:31,623] Trial 14 finished with value: 0.7793460837391517 and parameters: {'penalty': 'l2', 'solver': 'lbfgs', 'C': 0.35000000000000003}. Best is trial 14 with value: 0.7793460837391517.\n",
      "[I 2025-02-04 23:52:32,017] Trial 15 finished with value: 0.7747812752219532 and parameters: {'penalty': 'l2', 'solver': 'lbfgs', 'C': 0.4}. Best is trial 14 with value: 0.7793460837391517.\n",
      "[I 2025-02-04 23:52:32,369] Trial 16 finished with value: 0.7747812752219532 and parameters: {'penalty': 'l2', 'solver': 'lbfgs', 'C': 0.4}. Best is trial 14 with value: 0.7793460837391517.\n",
      "[I 2025-02-04 23:52:32,679] Trial 17 finished with value: 0.7789053473215017 and parameters: {'penalty': 'l2', 'solver': 'lbfgs', 'C': 0.15000000000000002}. Best is trial 14 with value: 0.7793460837391517.\n",
      "[I 2025-02-04 23:52:32,952] Trial 18 finished with value: 0.7247753598494069 and parameters: {'penalty': None, 'solver': 'lbfgs', 'C': 0.8}. Best is trial 14 with value: 0.7793460837391517.\n",
      "[I 2025-02-04 23:52:33,304] Trial 19 finished with value: 0.7747812752219532 and parameters: {'penalty': 'l2', 'solver': 'lbfgs', 'C': 0.4}. Best is trial 14 with value: 0.7793460837391517.\n"
     ]
    }
   ],
   "source": [
    "study = optuna.create_study(study_name=\"LogisticRegression\", direction=\"maximize\")\n",
    "# ищем лучшую комбинацию гиперпараметров n_trials раз\n",
    "study.optimize(optuna_lr, n_trials=20)"
   ]
  },
  {
   "cell_type": "code",
   "execution_count": 49,
   "metadata": {},
   "outputs": [
    {
     "name": "stdout",
     "output_type": "stream",
     "text": [
      "Наилучшие значения гиперпараметров {'penalty': 'l2', 'solver': 'lbfgs', 'C': 0.35000000000000003}\n",
      "f1_score на обучающем наборе: 0.77935\n"
     ]
    }
   ],
   "source": [
    "print(\"Наилучшие значения гиперпараметров {}\".format(study.best_params))\n",
    "print(\"f1_score на обучающем наборе: {:.5f}\".format(study.best_value))"
   ]
  },
  {
   "cell_type": "code",
   "execution_count": 50,
   "metadata": {},
   "outputs": [
    {
     "name": "stdout",
     "output_type": "stream",
     "text": [
      "f1_score на тестовом наборе: 0.80357\n"
     ]
    }
   ],
   "source": [
    "model = LogisticRegression(**study.best_params, random_state=42, max_iter=5000)\n",
    "model.fit(X_train, y_train)\n",
    "\n",
    "y_pred = model.predict(X_test)\n",
    "results['LR Optuna'] = round(f1_score(y_test, y_pred), 5)\n",
    "print('f1_score на тестовом наборе: {:.5f}'.format(results['LR Optuna']))"
   ]
  },
  {
   "cell_type": "markdown",
   "metadata": {},
   "source": [
    "#### Метод Optuna случайный лес:"
   ]
  },
  {
   "cell_type": "code",
   "execution_count": 51,
   "metadata": {},
   "outputs": [
    {
     "name": "stderr",
     "output_type": "stream",
     "text": [
      "[I 2025-02-04 23:52:33,428] A new study created in memory with name: RandomForestClassifier\n",
      "[I 2025-02-04 23:52:34,270] Trial 0 finished with value: 0.7878339907330869 and parameters: {'n_estimators': 270, 'max_depth': 26, 'min_samples_leaf': 6}. Best is trial 0 with value: 0.7878339907330869.\n",
      "[I 2025-02-04 23:52:34,886] Trial 1 finished with value: 0.7906906571222907 and parameters: {'n_estimators': 140, 'max_depth': 17, 'min_samples_leaf': 3}. Best is trial 1 with value: 0.7906906571222907.\n",
      "[I 2025-02-04 23:52:35,506] Trial 2 finished with value: 0.7900639469281872 and parameters: {'n_estimators': 150, 'max_depth': 23, 'min_samples_leaf': 6}. Best is trial 1 with value: 0.7906906571222907.\n",
      "[I 2025-02-04 23:52:36,001] Trial 3 finished with value: 0.7909130275137483 and parameters: {'n_estimators': 100, 'max_depth': 35, 'min_samples_leaf': 4}. Best is trial 3 with value: 0.7909130275137483.\n",
      "[I 2025-02-04 23:52:37,004] Trial 4 finished with value: 0.7851861529688646 and parameters: {'n_estimators': 280, 'max_depth': 22, 'min_samples_leaf': 6}. Best is trial 3 with value: 0.7909130275137483.\n",
      "[I 2025-02-04 23:52:38,188] Trial 5 finished with value: 0.7851180943560522 and parameters: {'n_estimators': 300, 'max_depth': 29, 'min_samples_leaf': 3}. Best is trial 3 with value: 0.7909130275137483.\n",
      "[I 2025-02-04 23:52:38,757] Trial 6 finished with value: 0.7803432306807946 and parameters: {'n_estimators': 150, 'max_depth': 34, 'min_samples_leaf': 7}. Best is trial 3 with value: 0.7909130275137483.\n",
      "[I 2025-02-04 23:52:39,218] Trial 7 finished with value: 0.7859801609916147 and parameters: {'n_estimators': 110, 'max_depth': 25, 'min_samples_leaf': 7}. Best is trial 3 with value: 0.7909130275137483.\n",
      "[I 2025-02-04 23:52:39,947] Trial 8 finished with value: 0.7937373168567557 and parameters: {'n_estimators': 160, 'max_depth': 17, 'min_samples_leaf': 3}. Best is trial 8 with value: 0.7937373168567557.\n",
      "[I 2025-02-04 23:52:40,999] Trial 9 finished with value: 0.7851861529688646 and parameters: {'n_estimators': 280, 'max_depth': 15, 'min_samples_leaf': 6}. Best is trial 8 with value: 0.7937373168567557.\n",
      "[I 2025-02-04 23:52:41,825] Trial 10 finished with value: 0.7889094219004679 and parameters: {'n_estimators': 210, 'max_depth': 40, 'min_samples_leaf': 4}. Best is trial 8 with value: 0.7937373168567557.\n",
      "[I 2025-02-04 23:52:42,306] Trial 11 finished with value: 0.7909130275137483 and parameters: {'n_estimators': 100, 'max_depth': 33, 'min_samples_leaf': 4}. Best is trial 8 with value: 0.7937373168567557.\n",
      "[I 2025-02-04 23:52:43,129] Trial 12 finished with value: 0.7866401318369662 and parameters: {'n_estimators': 200, 'max_depth': 39, 'min_samples_leaf': 4}. Best is trial 8 with value: 0.7937373168567557.\n",
      "[I 2025-02-04 23:52:43,928] Trial 13 finished with value: 0.7891445607701179 and parameters: {'n_estimators': 190, 'max_depth': 19, 'min_samples_leaf': 3}. Best is trial 8 with value: 0.7937373168567557.\n",
      "[I 2025-02-04 23:52:44,492] Trial 14 finished with value: 0.7848882021625311 and parameters: {'n_estimators': 130, 'max_depth': 31, 'min_samples_leaf': 5}. Best is trial 8 with value: 0.7937373168567557.\n",
      "[I 2025-02-04 23:52:45,224] Trial 15 finished with value: 0.7922575352238274 and parameters: {'n_estimators': 170, 'max_depth': 36, 'min_samples_leaf': 4}. Best is trial 8 with value: 0.7937373168567557.\n",
      "[I 2025-02-04 23:52:45,936] Trial 16 finished with value: 0.7862013810097965 and parameters: {'n_estimators': 180, 'max_depth': 36, 'min_samples_leaf': 5}. Best is trial 8 with value: 0.7937373168567557.\n",
      "[I 2025-02-04 23:52:46,908] Trial 17 finished with value: 0.7885395622098337 and parameters: {'n_estimators': 230, 'max_depth': 29, 'min_samples_leaf': 3}. Best is trial 8 with value: 0.7937373168567557.\n",
      "[I 2025-02-04 23:52:47,706] Trial 18 finished with value: 0.7922575352238274 and parameters: {'n_estimators': 170, 'max_depth': 21, 'min_samples_leaf': 4}. Best is trial 8 with value: 0.7937373168567557.\n",
      "[I 2025-02-04 23:52:48,646] Trial 19 finished with value: 0.7883411931404793 and parameters: {'n_estimators': 250, 'max_depth': 37, 'min_samples_leaf': 5}. Best is trial 8 with value: 0.7937373168567557.\n"
     ]
    }
   ],
   "source": [
    "study = optuna.create_study(study_name=\"RandomForestClassifier\", direction=\"maximize\")\n",
    "# ищем лучшую комбинацию гиперпараметров n_trials раз\n",
    "study.optimize(optuna_rf, n_trials=20)"
   ]
  },
  {
   "cell_type": "code",
   "execution_count": 52,
   "metadata": {},
   "outputs": [
    {
     "name": "stdout",
     "output_type": "stream",
     "text": [
      "Наилучшие значения гиперпараметров {'n_estimators': 160, 'max_depth': 17, 'min_samples_leaf': 3}\n",
      "f1_score на обучающем наборе: 0.79374\n"
     ]
    }
   ],
   "source": [
    "print(\"Наилучшие значения гиперпараметров {}\".format(study.best_params))\n",
    "print(\"f1_score на обучающем наборе: {:.5f}\".format(study.best_value))"
   ]
  },
  {
   "cell_type": "code",
   "execution_count": 53,
   "metadata": {},
   "outputs": [
    {
     "name": "stdout",
     "output_type": "stream",
     "text": [
      "f1_score на тестовом наборе: 0.83036\n"
     ]
    }
   ],
   "source": [
    "model = RandomForestClassifier(**study.best_params, random_state=42)\n",
    "model.fit(X_train, y_train)\n",
    "\n",
    "y_pred = model.predict(X_test)\n",
    "results['RF Optuna'] = round(f1_score(y_test, y_pred), 5)\n",
    "print('f1_score на тестовом наборе: {:.5f}'.format(results['RF Optuna']))"
   ]
  },
  {
   "cell_type": "code",
   "execution_count": 54,
   "metadata": {},
   "outputs": [
    {
     "data": {
      "text/plain": [
       "{'LR': 0.78571,\n",
       " 'RF': 0.81081,\n",
       " 'LR GridSearchCV': 0.78571,\n",
       " 'RF GridSearchCV': 0.81057,\n",
       " 'LR RandomizedSearchCV': 0.80357,\n",
       " 'RF RandomizedSearchCV': 0.81778,\n",
       " 'LR Hyperopt': 0.80357,\n",
       " 'RF Hyperopt': 0.80702,\n",
       " 'LR Optuna': 0.80357,\n",
       " 'RF Optuna': 0.83036}"
      ]
     },
     "execution_count": 54,
     "metadata": {},
     "output_type": "execute_result"
    }
   ],
   "source": [
    "results"
   ]
  },
  {
   "cell_type": "code",
   "execution_count": 55,
   "metadata": {},
   "outputs": [
    {
     "data": {
      "text/plain": [
       "<Axes: >"
      ]
     },
     "execution_count": 55,
     "metadata": {},
     "output_type": "execute_result"
    },
    {
     "data": {
      "image/png": "[encoded data removed]",
      "text/plain": [
       "<Figure size 640x480 with 1 Axes>"
      ]
     },
     "metadata": {},
     "output_type": "display_data"
    }
   ],
   "source": [
    "pd.Series(results).sort_values().plot(kind='barh')"
   ]
  }
 ],
 "metadata": {
  "kernelspec": {
   "display_name": "Python 3",
   "language": "python",
   "name": "python3"
  },
  "language_info": {
   "codemirror_mode": {
    "name": "ipython",
    "version": 3
   },
   "file_extension": ".py",
   "mimetype": "text/x-python",
   "name": "python",
   "nbconvert_exporter": "python",
   "pygments_lexer": "ipython3",
   "version": "3.11.9"
  }
 },
 "nbformat": 4,
 "nbformat_minor": 2
}
